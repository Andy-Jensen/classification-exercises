{
 "cells": [
  {
   "cell_type": "markdown",
   "id": "0dc85f1b",
   "metadata": {},
   "source": [
    "# Given the following confusion matrix, evaluate (by hand) the model's performance."
   ]
  },
  {
   "cell_type": "code",
   "execution_count": 139,
   "id": "f3b4c019",
   "metadata": {},
   "outputs": [],
   "source": [
    "import pandas as pd\n",
    "import numpy as np\n",
    "from sklearn.metrics import confusion_matrix\n",
    "from sklearn.metrics import accuracy_score\n",
    "from sklearn.metrics import recall_score\n",
    "from sklearn.metrics import classification_report"
   ]
  },
  {
   "cell_type": "code",
   "execution_count": 4,
   "id": "f815da7f",
   "metadata": {},
   "outputs": [
    {
     "data": {
      "text/html": [
       "<div>\n",
       "<style scoped>\n",
       "    .dataframe tbody tr th:only-of-type {\n",
       "        vertical-align: middle;\n",
       "    }\n",
       "\n",
       "    .dataframe tbody tr th {\n",
       "        vertical-align: top;\n",
       "    }\n",
       "\n",
       "    .dataframe thead th {\n",
       "        text-align: right;\n",
       "    }\n",
       "</style>\n",
       "<table border=\"1\" class=\"dataframe\">\n",
       "  <thead>\n",
       "    <tr style=\"text-align: right;\">\n",
       "      <th></th>\n",
       "      <th>pred dog</th>\n",
       "      <th>pred cat</th>\n",
       "    </tr>\n",
       "  </thead>\n",
       "  <tbody>\n",
       "    <tr>\n",
       "      <th>actual dog</th>\n",
       "      <td>46</td>\n",
       "      <td>7</td>\n",
       "    </tr>\n",
       "    <tr>\n",
       "      <th>actual cat</th>\n",
       "      <td>13</td>\n",
       "      <td>34</td>\n",
       "    </tr>\n",
       "  </tbody>\n",
       "</table>\n",
       "</div>"
      ],
      "text/plain": [
       "            pred dog  pred cat\n",
       "actual dog        46         7\n",
       "actual cat        13        34"
      ]
     },
     "execution_count": 4,
     "metadata": {},
     "output_type": "execute_result"
    }
   ],
   "source": [
    "pd.DataFrame(data= {'pred dog': [46, 13], 'pred cat': [7,34]} ,\n",
    "             index=('actual dog', 'actual cat'))"
   ]
  },
  {
   "cell_type": "markdown",
   "id": "eb8324f6",
   "metadata": {},
   "source": [
    "#### In the context of this problem, what is a false positive?\n"
   ]
  },
  {
   "cell_type": "code",
   "execution_count": 5,
   "id": "e98060af",
   "metadata": {},
   "outputs": [],
   "source": [
    "#the actual dog but predict cat (7)"
   ]
  },
  {
   "cell_type": "markdown",
   "id": "67e6faae",
   "metadata": {},
   "source": [
    "#### In the context of this problem, what is a false negative?\n"
   ]
  },
  {
   "cell_type": "code",
   "execution_count": 6,
   "id": "c5a7072a",
   "metadata": {},
   "outputs": [],
   "source": [
    "#actual cat and pred dog (13)"
   ]
  },
  {
   "cell_type": "markdown",
   "id": "cd2154a4",
   "metadata": {},
   "source": [
    "#### How would you describe this model?\n"
   ]
  },
  {
   "cell_type": "code",
   "execution_count": 7,
   "id": "0b7864a3",
   "metadata": {},
   "outputs": [],
   "source": [
    "#I would describe this as a precise model"
   ]
  },
  {
   "cell_type": "markdown",
   "id": "7062d407",
   "metadata": {},
   "source": [
    "### You are working as a datascientist working for Codeup Cody Creator (C3 for short), a rubber-duck manufacturing plant. Unfortunately, some of the rubber ducks that are produced will have defects. Your team has built several models that try to predict those defects, and the data from their predictions can be found here. Use the predictions dataset and pandas to help answer the following questions:"
   ]
  },
  {
   "cell_type": "markdown",
   "id": "b499fe12",
   "metadata": {},
   "source": [
    "An internal team wants to investigate the cause of the manufacturing defects. They tell you that they want to identify as many of the ducks that have a defect as possible. Which evaluation metric would be appropriate here? Which model would be the best fit for this use case?\n"
   ]
  },
  {
   "cell_type": "code",
   "execution_count": 8,
   "id": "70e2839f",
   "metadata": {},
   "outputs": [
    {
     "data": {
      "text/html": [
       "<div>\n",
       "<style scoped>\n",
       "    .dataframe tbody tr th:only-of-type {\n",
       "        vertical-align: middle;\n",
       "    }\n",
       "\n",
       "    .dataframe tbody tr th {\n",
       "        vertical-align: top;\n",
       "    }\n",
       "\n",
       "    .dataframe thead th {\n",
       "        text-align: right;\n",
       "    }\n",
       "</style>\n",
       "<table border=\"1\" class=\"dataframe\">\n",
       "  <thead>\n",
       "    <tr style=\"text-align: right;\">\n",
       "      <th></th>\n",
       "      <th>actual</th>\n",
       "      <th>model1</th>\n",
       "      <th>model2</th>\n",
       "      <th>model3</th>\n",
       "    </tr>\n",
       "  </thead>\n",
       "  <tbody>\n",
       "    <tr>\n",
       "      <th>0</th>\n",
       "      <td>No Defect</td>\n",
       "      <td>No Defect</td>\n",
       "      <td>Defect</td>\n",
       "      <td>No Defect</td>\n",
       "    </tr>\n",
       "    <tr>\n",
       "      <th>1</th>\n",
       "      <td>No Defect</td>\n",
       "      <td>No Defect</td>\n",
       "      <td>Defect</td>\n",
       "      <td>Defect</td>\n",
       "    </tr>\n",
       "    <tr>\n",
       "      <th>2</th>\n",
       "      <td>No Defect</td>\n",
       "      <td>No Defect</td>\n",
       "      <td>Defect</td>\n",
       "      <td>No Defect</td>\n",
       "    </tr>\n",
       "    <tr>\n",
       "      <th>3</th>\n",
       "      <td>No Defect</td>\n",
       "      <td>Defect</td>\n",
       "      <td>Defect</td>\n",
       "      <td>Defect</td>\n",
       "    </tr>\n",
       "    <tr>\n",
       "      <th>4</th>\n",
       "      <td>No Defect</td>\n",
       "      <td>No Defect</td>\n",
       "      <td>Defect</td>\n",
       "      <td>No Defect</td>\n",
       "    </tr>\n",
       "  </tbody>\n",
       "</table>\n",
       "</div>"
      ],
      "text/plain": [
       "      actual     model1  model2     model3\n",
       "0  No Defect  No Defect  Defect  No Defect\n",
       "1  No Defect  No Defect  Defect     Defect\n",
       "2  No Defect  No Defect  Defect  No Defect\n",
       "3  No Defect     Defect  Defect     Defect\n",
       "4  No Defect  No Defect  Defect  No Defect"
      ]
     },
     "execution_count": 8,
     "metadata": {},
     "output_type": "execute_result"
    }
   ],
   "source": [
    "c3 = pd.read_csv(r'/Users/andy.jensen/codeup-data-science/classification-exercises/c3.csv')\n",
    "c3.head()"
   ]
  },
  {
   "cell_type": "code",
   "execution_count": 19,
   "id": "4b980228",
   "metadata": {},
   "outputs": [
    {
     "data": {
      "text/plain": [
       "No Defect    184\n",
       "Defect        16\n",
       "Name: actual, dtype: int64"
      ]
     },
     "execution_count": 19,
     "metadata": {},
     "output_type": "execute_result"
    }
   ],
   "source": [
    "c3.actual.value_counts()"
   ]
  },
  {
   "cell_type": "code",
   "execution_count": 18,
   "id": "e1719a5d",
   "metadata": {},
   "outputs": [
    {
     "data": {
      "text/html": [
       "<div>\n",
       "<style scoped>\n",
       "    .dataframe tbody tr th:only-of-type {\n",
       "        vertical-align: middle;\n",
       "    }\n",
       "\n",
       "    .dataframe tbody tr th {\n",
       "        vertical-align: top;\n",
       "    }\n",
       "\n",
       "    .dataframe thead th {\n",
       "        text-align: right;\n",
       "    }\n",
       "</style>\n",
       "<table border=\"1\" class=\"dataframe\">\n",
       "  <thead>\n",
       "    <tr style=\"text-align: right;\">\n",
       "      <th></th>\n",
       "      <th>actual</th>\n",
       "      <th>model1</th>\n",
       "      <th>model2</th>\n",
       "      <th>model3</th>\n",
       "      <th>baseline</th>\n",
       "    </tr>\n",
       "  </thead>\n",
       "  <tbody>\n",
       "    <tr>\n",
       "      <th>0</th>\n",
       "      <td>No Defect</td>\n",
       "      <td>No Defect</td>\n",
       "      <td>Defect</td>\n",
       "      <td>No Defect</td>\n",
       "      <td>No Defect</td>\n",
       "    </tr>\n",
       "    <tr>\n",
       "      <th>1</th>\n",
       "      <td>No Defect</td>\n",
       "      <td>No Defect</td>\n",
       "      <td>Defect</td>\n",
       "      <td>Defect</td>\n",
       "      <td>No Defect</td>\n",
       "    </tr>\n",
       "    <tr>\n",
       "      <th>2</th>\n",
       "      <td>No Defect</td>\n",
       "      <td>No Defect</td>\n",
       "      <td>Defect</td>\n",
       "      <td>No Defect</td>\n",
       "      <td>No Defect</td>\n",
       "    </tr>\n",
       "    <tr>\n",
       "      <th>3</th>\n",
       "      <td>No Defect</td>\n",
       "      <td>Defect</td>\n",
       "      <td>Defect</td>\n",
       "      <td>Defect</td>\n",
       "      <td>No Defect</td>\n",
       "    </tr>\n",
       "    <tr>\n",
       "      <th>4</th>\n",
       "      <td>No Defect</td>\n",
       "      <td>No Defect</td>\n",
       "      <td>Defect</td>\n",
       "      <td>No Defect</td>\n",
       "      <td>No Defect</td>\n",
       "    </tr>\n",
       "  </tbody>\n",
       "</table>\n",
       "</div>"
      ],
      "text/plain": [
       "      actual     model1  model2     model3   baseline\n",
       "0  No Defect  No Defect  Defect  No Defect  No Defect\n",
       "1  No Defect  No Defect  Defect     Defect  No Defect\n",
       "2  No Defect  No Defect  Defect  No Defect  No Defect\n",
       "3  No Defect     Defect  Defect     Defect  No Defect\n",
       "4  No Defect  No Defect  Defect  No Defect  No Defect"
      ]
     },
     "execution_count": 18,
     "metadata": {},
     "output_type": "execute_result"
    }
   ],
   "source": [
    "c3['baseline']= 'No Defect'\n",
    "c3.head()"
   ]
  },
  {
   "cell_type": "code",
   "execution_count": 52,
   "id": "3a1f8262",
   "metadata": {},
   "outputs": [
    {
     "data": {
      "text/html": [
       "<div>\n",
       "<style scoped>\n",
       "    .dataframe tbody tr th:only-of-type {\n",
       "        vertical-align: middle;\n",
       "    }\n",
       "\n",
       "    .dataframe tbody tr th {\n",
       "        vertical-align: top;\n",
       "    }\n",
       "\n",
       "    .dataframe thead th {\n",
       "        text-align: right;\n",
       "    }\n",
       "</style>\n",
       "<table border=\"1\" class=\"dataframe\">\n",
       "  <thead>\n",
       "    <tr style=\"text-align: right;\">\n",
       "      <th></th>\n",
       "      <th>Pred No Defect</th>\n",
       "      <th>Pred Defect</th>\n",
       "    </tr>\n",
       "  </thead>\n",
       "  <tbody>\n",
       "    <tr>\n",
       "      <th>Actual No Defect</th>\n",
       "      <td>98</td>\n",
       "      <td>86</td>\n",
       "    </tr>\n",
       "    <tr>\n",
       "      <th>Actual Defect</th>\n",
       "      <td>3</td>\n",
       "      <td>13</td>\n",
       "    </tr>\n",
       "  </tbody>\n",
       "</table>\n",
       "</div>"
      ],
      "text/plain": [
       "                  Pred No Defect  Pred Defect\n",
       "Actual No Defect              98           86\n",
       "Actual Defect                  3           13"
      ]
     },
     "execution_count": 52,
     "metadata": {},
     "output_type": "execute_result"
    }
   ],
   "source": [
    "#use a recall  (high number of true positives against all positives) \n",
    "#so we will use model3\n",
    "\n",
    "c3_df= pd.DataFrame(confusion_matrix(c3.actual, c3.model3,\n",
    "                labels= ('No Defect', 'Defect')), columns= ['Pred No Defect', 'Pred Defect'], \n",
    "            index = ['Actual No Defect', 'Actual Defect'])\n",
    "c3_df"
   ]
  },
  {
   "cell_type": "code",
   "execution_count": 54,
   "id": "195a91fb",
   "metadata": {},
   "outputs": [
    {
     "data": {
      "text/plain": [
       "0.8125"
      ]
     },
     "execution_count": 54,
     "metadata": {},
     "output_type": "execute_result"
    }
   ],
   "source": [
    "recall = (c3_df.iloc[1:]['Pred Defect']/(c3_df.iloc[1:]['Pred No Defect'] + \n",
    "                                         c3_df.iloc[1:]['Pred Defect']))[0]\n",
    "recall"
   ]
  },
  {
   "cell_type": "markdown",
   "id": "c45e405d",
   "metadata": {},
   "source": [
    "Recently several stories in the local news have come out highlighting customers who received a rubber duck with a defect, and portraying C3 in a bad light. The PR team has decided to launch a program that gives customers with a defective duck a vacation to Hawaii. They need you to predict which ducks will have defects, but tell you the really don't want to accidentally give out a vacation package when the duck really doesn't have a defect. Which evaluation metric would be appropriate here? Which model would be the best fit for this use case?\n"
   ]
  },
  {
   "cell_type": "code",
   "execution_count": null,
   "id": "ba157ef9",
   "metadata": {},
   "outputs": [],
   "source": [
    "#Use Accuracy (high true positive and true negative). \n",
    "#This tells us how good the model is.\n",
    "#Use model 3"
   ]
  },
  {
   "cell_type": "code",
   "execution_count": 65,
   "id": "fcb8992f",
   "metadata": {},
   "outputs": [
    {
     "data": {
      "text/html": [
       "<div>\n",
       "<style scoped>\n",
       "    .dataframe tbody tr th:only-of-type {\n",
       "        vertical-align: middle;\n",
       "    }\n",
       "\n",
       "    .dataframe tbody tr th {\n",
       "        vertical-align: top;\n",
       "    }\n",
       "\n",
       "    .dataframe thead th {\n",
       "        text-align: right;\n",
       "    }\n",
       "</style>\n",
       "<table border=\"1\" class=\"dataframe\">\n",
       "  <thead>\n",
       "    <tr style=\"text-align: right;\">\n",
       "      <th></th>\n",
       "      <th>Pred No Defect</th>\n",
       "      <th>Pred Defect</th>\n",
       "    </tr>\n",
       "  </thead>\n",
       "  <tbody>\n",
       "    <tr>\n",
       "      <th>Actual No Defect</th>\n",
       "      <td>98</td>\n",
       "      <td>86</td>\n",
       "    </tr>\n",
       "    <tr>\n",
       "      <th>Actual Defect</th>\n",
       "      <td>3</td>\n",
       "      <td>13</td>\n",
       "    </tr>\n",
       "  </tbody>\n",
       "</table>\n",
       "</div>"
      ],
      "text/plain": [
       "                  Pred No Defect  Pred Defect\n",
       "Actual No Defect              98           86\n",
       "Actual Defect                  3           13"
      ]
     },
     "execution_count": 65,
     "metadata": {},
     "output_type": "execute_result"
    }
   ],
   "source": [
    "Hawaii= pd.DataFrame(confusion_matrix(c3.actual, c3.model3,\n",
    "                labels= ('No Defect', 'Defect')), \n",
    "                     columns= ['Pred No Defect', 'Pred Defect'], \n",
    "                     index = ['Actual No Defect', 'Actual Defect'])\n",
    "Hawaii"
   ]
  },
  {
   "cell_type": "markdown",
   "id": "170640ed",
   "metadata": {},
   "source": [
    "positive is pred defect and actual defect   \n",
    "the negative is no defect and pred no defect"
   ]
  },
  {
   "cell_type": "code",
   "execution_count": 66,
   "id": "030a8377",
   "metadata": {},
   "outputs": [
    {
     "data": {
      "text/plain": [
       "0.8125"
      ]
     },
     "execution_count": 66,
     "metadata": {},
     "output_type": "execute_result"
    }
   ],
   "source": [
    "precision = ( Hawaii.iloc[1:]['Pred Defect']/\n",
    "            (Hawaii.iloc[1:]['Pred No Defect'] + \n",
    "             Hawaii.iloc[1:]['Pred Defect']))[0]\n",
    "precision"
   ]
  },
  {
   "cell_type": "markdown",
   "id": "9078636e",
   "metadata": {},
   "source": [
    "### You are working as a data scientist for Gives You Paws ™, a subscription based service that shows you cute pictures of dogs or cats (or both for an additional fee). At Gives You Paws, anyone can upload pictures of their cats or dogs. The photos are then put through a two step process. First an automated algorithm tags pictures as either a cat or a dog (Phase I). Next, the photos that have been initially identified are put through another round of review, possibly with some human oversight, before being presented to the users (Phase II).\n",
    "\n",
    "\n",
    "In terms of accuracy, how do the various models compare to the baseline model? Are any of the models better than the baseline?"
   ]
  },
  {
   "cell_type": "code",
   "execution_count": 67,
   "id": "953c66cf",
   "metadata": {},
   "outputs": [],
   "source": [
    "gyp = pd.read_csv(r'/Users/andy.jensen/codeup-data-science/classification-exercises/gives_you_paws.csv')"
   ]
  },
  {
   "cell_type": "code",
   "execution_count": 68,
   "id": "b51c402f",
   "metadata": {},
   "outputs": [
    {
     "data": {
      "text/html": [
       "<div>\n",
       "<style scoped>\n",
       "    .dataframe tbody tr th:only-of-type {\n",
       "        vertical-align: middle;\n",
       "    }\n",
       "\n",
       "    .dataframe tbody tr th {\n",
       "        vertical-align: top;\n",
       "    }\n",
       "\n",
       "    .dataframe thead th {\n",
       "        text-align: right;\n",
       "    }\n",
       "</style>\n",
       "<table border=\"1\" class=\"dataframe\">\n",
       "  <thead>\n",
       "    <tr style=\"text-align: right;\">\n",
       "      <th></th>\n",
       "      <th>actual</th>\n",
       "      <th>model1</th>\n",
       "      <th>model2</th>\n",
       "      <th>model3</th>\n",
       "      <th>model4</th>\n",
       "    </tr>\n",
       "  </thead>\n",
       "  <tbody>\n",
       "    <tr>\n",
       "      <th>0</th>\n",
       "      <td>cat</td>\n",
       "      <td>cat</td>\n",
       "      <td>dog</td>\n",
       "      <td>cat</td>\n",
       "      <td>dog</td>\n",
       "    </tr>\n",
       "    <tr>\n",
       "      <th>1</th>\n",
       "      <td>dog</td>\n",
       "      <td>dog</td>\n",
       "      <td>cat</td>\n",
       "      <td>cat</td>\n",
       "      <td>dog</td>\n",
       "    </tr>\n",
       "    <tr>\n",
       "      <th>2</th>\n",
       "      <td>dog</td>\n",
       "      <td>cat</td>\n",
       "      <td>cat</td>\n",
       "      <td>cat</td>\n",
       "      <td>dog</td>\n",
       "    </tr>\n",
       "    <tr>\n",
       "      <th>3</th>\n",
       "      <td>dog</td>\n",
       "      <td>dog</td>\n",
       "      <td>dog</td>\n",
       "      <td>cat</td>\n",
       "      <td>dog</td>\n",
       "    </tr>\n",
       "    <tr>\n",
       "      <th>4</th>\n",
       "      <td>cat</td>\n",
       "      <td>cat</td>\n",
       "      <td>cat</td>\n",
       "      <td>dog</td>\n",
       "      <td>dog</td>\n",
       "    </tr>\n",
       "  </tbody>\n",
       "</table>\n",
       "</div>"
      ],
      "text/plain": [
       "  actual model1 model2 model3 model4\n",
       "0    cat    cat    dog    cat    dog\n",
       "1    dog    dog    cat    cat    dog\n",
       "2    dog    cat    cat    cat    dog\n",
       "3    dog    dog    dog    cat    dog\n",
       "4    cat    cat    cat    dog    dog"
      ]
     },
     "execution_count": 68,
     "metadata": {},
     "output_type": "execute_result"
    }
   ],
   "source": [
    "gyp.head()"
   ]
  },
  {
   "cell_type": "markdown",
   "id": "f2d10cfa",
   "metadata": {},
   "source": [
    "# Model 1"
   ]
  },
  {
   "cell_type": "code",
   "execution_count": 97,
   "id": "302975d1",
   "metadata": {},
   "outputs": [
    {
     "data": {
      "text/html": [
       "<div>\n",
       "<style scoped>\n",
       "    .dataframe tbody tr th:only-of-type {\n",
       "        vertical-align: middle;\n",
       "    }\n",
       "\n",
       "    .dataframe tbody tr th {\n",
       "        vertical-align: top;\n",
       "    }\n",
       "\n",
       "    .dataframe thead th {\n",
       "        text-align: right;\n",
       "    }\n",
       "</style>\n",
       "<table border=\"1\" class=\"dataframe\">\n",
       "  <thead>\n",
       "    <tr style=\"text-align: right;\">\n",
       "      <th></th>\n",
       "      <th>pred cat</th>\n",
       "      <th>pred dog</th>\n",
       "    </tr>\n",
       "  </thead>\n",
       "  <tbody>\n",
       "    <tr>\n",
       "      <th>actual cat</th>\n",
       "      <td>1423</td>\n",
       "      <td>323</td>\n",
       "    </tr>\n",
       "    <tr>\n",
       "      <th>actual dog</th>\n",
       "      <td>640</td>\n",
       "      <td>2614</td>\n",
       "    </tr>\n",
       "  </tbody>\n",
       "</table>\n",
       "</div>"
      ],
      "text/plain": [
       "            pred cat  pred dog\n",
       "actual cat      1423       323\n",
       "actual dog       640      2614"
      ]
     },
     "execution_count": 97,
     "metadata": {},
     "output_type": "execute_result"
    }
   ],
   "source": [
    "mo1= pd.DataFrame(confusion_matrix(gyp.actual, gyp.model1,\n",
    "                labels= ('cat', 'dog')), \n",
    "                     columns= ['pred cat', 'pred dog'], \n",
    "                     index = ['actual cat', 'actual dog'])\n",
    "mo1"
   ]
  },
  {
   "cell_type": "markdown",
   "id": "3ce53173",
   "metadata": {},
   "source": [
    "Negative is actual/pred cat  \n",
    "Positive is actual/pred dog"
   ]
  },
  {
   "cell_type": "code",
   "execution_count": 98,
   "id": "6207e9bf",
   "metadata": {},
   "outputs": [
    {
     "data": {
      "text/plain": [
       "0.8074"
      ]
     },
     "execution_count": 98,
     "metadata": {},
     "output_type": "execute_result"
    }
   ],
   "source": [
    "accuracy1 = ((mo1.iloc[:1]['pred cat'][0] + mo1.iloc[1:]['pred dog'][0])/\n",
    "            ((mo1.iloc[0:]['pred cat'] + mo1.iloc[0:]['pred dog']).sum()))\n",
    "accuracy1"
   ]
  },
  {
   "cell_type": "markdown",
   "id": "82831ce9",
   "metadata": {},
   "source": [
    "# Model 2"
   ]
  },
  {
   "cell_type": "code",
   "execution_count": 99,
   "id": "274eef9f",
   "metadata": {},
   "outputs": [
    {
     "data": {
      "text/html": [
       "<div>\n",
       "<style scoped>\n",
       "    .dataframe tbody tr th:only-of-type {\n",
       "        vertical-align: middle;\n",
       "    }\n",
       "\n",
       "    .dataframe tbody tr th {\n",
       "        vertical-align: top;\n",
       "    }\n",
       "\n",
       "    .dataframe thead th {\n",
       "        text-align: right;\n",
       "    }\n",
       "</style>\n",
       "<table border=\"1\" class=\"dataframe\">\n",
       "  <thead>\n",
       "    <tr style=\"text-align: right;\">\n",
       "      <th></th>\n",
       "      <th>pred cat</th>\n",
       "      <th>pred dog</th>\n",
       "    </tr>\n",
       "  </thead>\n",
       "  <tbody>\n",
       "    <tr>\n",
       "      <th>actual cat</th>\n",
       "      <td>1555</td>\n",
       "      <td>191</td>\n",
       "    </tr>\n",
       "    <tr>\n",
       "      <th>actual dog</th>\n",
       "      <td>1657</td>\n",
       "      <td>1597</td>\n",
       "    </tr>\n",
       "  </tbody>\n",
       "</table>\n",
       "</div>"
      ],
      "text/plain": [
       "            pred cat  pred dog\n",
       "actual cat      1555       191\n",
       "actual dog      1657      1597"
      ]
     },
     "execution_count": 99,
     "metadata": {},
     "output_type": "execute_result"
    }
   ],
   "source": [
    "mo2= pd.DataFrame(confusion_matrix(gyp.actual, gyp.model2,\n",
    "                labels= ('cat', 'dog')), \n",
    "                     columns= ['pred cat', 'pred dog'], \n",
    "                     index = ['actual cat', 'actual dog'])\n",
    "mo2"
   ]
  },
  {
   "cell_type": "markdown",
   "id": "194f2dea",
   "metadata": {},
   "source": [
    "Negative is actual/pred cat  \n",
    "Positive is actual/pred dog"
   ]
  },
  {
   "cell_type": "code",
   "execution_count": 100,
   "id": "d958cad7",
   "metadata": {},
   "outputs": [
    {
     "data": {
      "text/plain": [
       "0.6304"
      ]
     },
     "execution_count": 100,
     "metadata": {},
     "output_type": "execute_result"
    }
   ],
   "source": [
    "accuracy2 = ((mo2.iloc[:1]['pred cat'][0] + mo2.iloc[1:]['pred dog'][0])/\n",
    "            ((mo2.iloc[0:]['pred cat'] + mo2.iloc[0:]['pred dog']).sum()))\n",
    "accuracy2"
   ]
  },
  {
   "cell_type": "markdown",
   "id": "e1721df2",
   "metadata": {},
   "source": [
    "# Model 3"
   ]
  },
  {
   "cell_type": "code",
   "execution_count": 101,
   "id": "782511b2",
   "metadata": {},
   "outputs": [
    {
     "data": {
      "text/html": [
       "<div>\n",
       "<style scoped>\n",
       "    .dataframe tbody tr th:only-of-type {\n",
       "        vertical-align: middle;\n",
       "    }\n",
       "\n",
       "    .dataframe tbody tr th {\n",
       "        vertical-align: top;\n",
       "    }\n",
       "\n",
       "    .dataframe thead th {\n",
       "        text-align: right;\n",
       "    }\n",
       "</style>\n",
       "<table border=\"1\" class=\"dataframe\">\n",
       "  <thead>\n",
       "    <tr style=\"text-align: right;\">\n",
       "      <th></th>\n",
       "      <th>pred cat</th>\n",
       "      <th>pred dog</th>\n",
       "    </tr>\n",
       "  </thead>\n",
       "  <tbody>\n",
       "    <tr>\n",
       "      <th>actual cat</th>\n",
       "      <td>893</td>\n",
       "      <td>853</td>\n",
       "    </tr>\n",
       "    <tr>\n",
       "      <th>actual dog</th>\n",
       "      <td>1599</td>\n",
       "      <td>1655</td>\n",
       "    </tr>\n",
       "  </tbody>\n",
       "</table>\n",
       "</div>"
      ],
      "text/plain": [
       "            pred cat  pred dog\n",
       "actual cat       893       853\n",
       "actual dog      1599      1655"
      ]
     },
     "execution_count": 101,
     "metadata": {},
     "output_type": "execute_result"
    }
   ],
   "source": [
    "mo3= pd.DataFrame(confusion_matrix(gyp.actual, gyp.model3,\n",
    "                labels= ('cat', 'dog')), \n",
    "                     columns= ['pred cat', 'pred dog'], \n",
    "                     index = ['actual cat', 'actual dog'])\n",
    "mo3"
   ]
  },
  {
   "cell_type": "markdown",
   "id": "0ecd7ad8",
   "metadata": {},
   "source": [
    "Negative is actual/pred cat  \n",
    "Positive is actual/pred dog"
   ]
  },
  {
   "cell_type": "code",
   "execution_count": 102,
   "id": "4c4624b5",
   "metadata": {},
   "outputs": [
    {
     "data": {
      "text/plain": [
       "0.5096"
      ]
     },
     "execution_count": 102,
     "metadata": {},
     "output_type": "execute_result"
    }
   ],
   "source": [
    "accuracy3 = ((mo3.iloc[:1]['pred cat'][0] + mo3.iloc[1:]['pred dog'][0])/\n",
    "            ((mo3.iloc[0:]['pred cat'] + mo3.iloc[0:]['pred dog']).sum()))\n",
    "accuracy3"
   ]
  },
  {
   "cell_type": "markdown",
   "id": "90788e41",
   "metadata": {},
   "source": [
    "# Model 4"
   ]
  },
  {
   "cell_type": "code",
   "execution_count": 103,
   "id": "14669e09",
   "metadata": {},
   "outputs": [
    {
     "data": {
      "text/html": [
       "<div>\n",
       "<style scoped>\n",
       "    .dataframe tbody tr th:only-of-type {\n",
       "        vertical-align: middle;\n",
       "    }\n",
       "\n",
       "    .dataframe tbody tr th {\n",
       "        vertical-align: top;\n",
       "    }\n",
       "\n",
       "    .dataframe thead th {\n",
       "        text-align: right;\n",
       "    }\n",
       "</style>\n",
       "<table border=\"1\" class=\"dataframe\">\n",
       "  <thead>\n",
       "    <tr style=\"text-align: right;\">\n",
       "      <th></th>\n",
       "      <th>pred cat</th>\n",
       "      <th>pred dog</th>\n",
       "    </tr>\n",
       "  </thead>\n",
       "  <tbody>\n",
       "    <tr>\n",
       "      <th>actual cat</th>\n",
       "      <td>603</td>\n",
       "      <td>1143</td>\n",
       "    </tr>\n",
       "    <tr>\n",
       "      <th>actual dog</th>\n",
       "      <td>144</td>\n",
       "      <td>3110</td>\n",
       "    </tr>\n",
       "  </tbody>\n",
       "</table>\n",
       "</div>"
      ],
      "text/plain": [
       "            pred cat  pred dog\n",
       "actual cat       603      1143\n",
       "actual dog       144      3110"
      ]
     },
     "execution_count": 103,
     "metadata": {},
     "output_type": "execute_result"
    }
   ],
   "source": [
    "mo4= pd.DataFrame(confusion_matrix(gyp.actual, gyp.model4,\n",
    "                labels= ('cat', 'dog')), \n",
    "                     columns= ['pred cat', 'pred dog'], \n",
    "                     index = ['actual cat', 'actual dog'])\n",
    "mo4"
   ]
  },
  {
   "cell_type": "markdown",
   "id": "03fc3bf6",
   "metadata": {},
   "source": [
    "Negative is actual/pred cat  \n",
    "Positive is actual/pred dog"
   ]
  },
  {
   "cell_type": "code",
   "execution_count": 104,
   "id": "6dc9d97f",
   "metadata": {},
   "outputs": [
    {
     "data": {
      "text/plain": [
       "0.7426"
      ]
     },
     "execution_count": 104,
     "metadata": {},
     "output_type": "execute_result"
    }
   ],
   "source": [
    "accuracy4 = ((mo4.iloc[:1]['pred cat'][0] + mo4.iloc[1:]['pred dog'][0])/\n",
    "            ((mo4.iloc[0:]['pred cat'] + mo4.iloc[0:]['pred dog']).sum()))\n",
    "accuracy4"
   ]
  },
  {
   "cell_type": "markdown",
   "id": "7e6d9091",
   "metadata": {},
   "source": [
    "Suppose you are working on a team that solely deals with dog pictures. Which of these models would you recommend?\n"
   ]
  },
  {
   "cell_type": "code",
   "execution_count": 110,
   "id": "4c27cc76",
   "metadata": {},
   "outputs": [
    {
     "data": {
      "text/plain": [
       "0.803318992009834"
      ]
     },
     "execution_count": 110,
     "metadata": {},
     "output_type": "execute_result"
    }
   ],
   "source": [
    "recalldog1 = (mo1.iloc[1:]['pred dog'][0]/(mo1.iloc[1:]['pred dog'][0] + \n",
    "                                         mo1.iloc[1:]['pred cat'][0]))\n",
    "recalldog1"
   ]
  },
  {
   "cell_type": "code",
   "execution_count": 111,
   "id": "2d2cbe6b",
   "metadata": {},
   "outputs": [
    {
     "data": {
      "text/plain": [
       "0.49078057775046097"
      ]
     },
     "execution_count": 111,
     "metadata": {},
     "output_type": "execute_result"
    }
   ],
   "source": [
    "recalldog2 = (mo2.iloc[1:]['pred dog'][0]/(mo2.iloc[1:]['pred dog'][0] + \n",
    "                                         mo2.iloc[1:]['pred cat'][0]))\n",
    "recalldog2"
   ]
  },
  {
   "cell_type": "code",
   "execution_count": 112,
   "id": "3f85df8b",
   "metadata": {},
   "outputs": [
    {
     "data": {
      "text/plain": [
       "0.5086047940995697"
      ]
     },
     "execution_count": 112,
     "metadata": {},
     "output_type": "execute_result"
    }
   ],
   "source": [
    "recalldog3 = (mo3.iloc[1:]['pred dog'][0]/(mo3.iloc[1:]['pred dog'][0] + \n",
    "                                         mo3.iloc[1:]['pred cat'][0]))\n",
    "recalldog3"
   ]
  },
  {
   "cell_type": "code",
   "execution_count": 113,
   "id": "fb7788a1",
   "metadata": {},
   "outputs": [
    {
     "data": {
      "text/plain": [
       "0.9557467732022127"
      ]
     },
     "execution_count": 113,
     "metadata": {},
     "output_type": "execute_result"
    }
   ],
   "source": [
    "recalldog4 = (mo4.iloc[1:]['pred dog'][0]/(mo4.iloc[1:]['pred dog'][0] + \n",
    "                                         mo4.iloc[1:]['pred cat'][0]))\n",
    "recalldog4"
   ]
  },
  {
   "cell_type": "markdown",
   "id": "d91b3de3",
   "metadata": {},
   "source": [
    "## I would recommend model 4 for the team working with only dog photos"
   ]
  },
  {
   "cell_type": "markdown",
   "id": "9486d0f9",
   "metadata": {},
   "source": [
    "Suppose you are working on a team that solely deals with cat pictures. Which of these models would you recommend?\n"
   ]
  },
  {
   "cell_type": "code",
   "execution_count": 128,
   "id": "7938f504",
   "metadata": {},
   "outputs": [
    {
     "data": {
      "text/plain": [
       "0.8150057273768614"
      ]
     },
     "execution_count": 128,
     "metadata": {},
     "output_type": "execute_result"
    }
   ],
   "source": [
    "specificity1 = (mo1.iloc[0:]['pred cat'][0] / (mo1.iloc[0:]['pred dog'][0] + \n",
    "                                         mo1.iloc[0:]['pred cat'][0]))\n",
    "specificity1"
   ]
  },
  {
   "cell_type": "code",
   "execution_count": 129,
   "id": "9923d95f",
   "metadata": {},
   "outputs": [
    {
     "data": {
      "text/plain": [
       "0.8906071019473081"
      ]
     },
     "execution_count": 129,
     "metadata": {},
     "output_type": "execute_result"
    }
   ],
   "source": [
    "specificity2 = (mo2.iloc[0:]['pred cat'][0] / (mo2.iloc[0:]['pred dog'][0] + \n",
    "                                         mo2.iloc[0:]['pred cat'][0]))\n",
    "specificity2"
   ]
  },
  {
   "cell_type": "code",
   "execution_count": 130,
   "id": "68ba85ae",
   "metadata": {},
   "outputs": [
    {
     "data": {
      "text/plain": [
       "0.5114547537227949"
      ]
     },
     "execution_count": 130,
     "metadata": {},
     "output_type": "execute_result"
    }
   ],
   "source": [
    "specificity3 = (mo3.iloc[0:]['pred cat'][0] / (mo3.iloc[0:]['pred dog'][0] + \n",
    "                                         mo3.iloc[0:]['pred cat'][0]))\n",
    "specificity3"
   ]
  },
  {
   "cell_type": "code",
   "execution_count": 131,
   "id": "d4134f02",
   "metadata": {},
   "outputs": [
    {
     "data": {
      "text/plain": [
       "0.8150057273768614"
      ]
     },
     "execution_count": 131,
     "metadata": {},
     "output_type": "execute_result"
    }
   ],
   "source": [
    "specificity4 = (mo1.iloc[0:]['pred cat'][0] / (mo4.iloc[0:]['pred dog'][0] + \n",
    "                                         mo4.iloc[0:]['pred cat'][0]))\n",
    "specificity4"
   ]
  },
  {
   "cell_type": "markdown",
   "id": "634c9160",
   "metadata": {},
   "source": [
    "# I would use model 2 for the team dealing with only cats"
   ]
  },
  {
   "cell_type": "markdown",
   "id": "a2273bc0",
   "metadata": {},
   "source": [
    "### Follow the links below to read the documentation about each function, then apply those functions to the data from the previous problem.\n",
    "\n"
   ]
  },
  {
   "cell_type": "code",
   "execution_count": 132,
   "id": "94629054",
   "metadata": {},
   "outputs": [
    {
     "data": {
      "text/plain": [
       "array([[1423,  323],\n",
       "       [ 640, 2614]])"
      ]
     },
     "execution_count": 132,
     "metadata": {},
     "output_type": "execute_result"
    }
   ],
   "source": [
    "confusion_matrix(gyp.actual, gyp.model1)"
   ]
  },
  {
   "cell_type": "code",
   "execution_count": 138,
   "id": "6eb33c8b",
   "metadata": {},
   "outputs": [
    {
     "data": {
      "text/plain": [
       "0.8074"
      ]
     },
     "execution_count": 138,
     "metadata": {},
     "output_type": "execute_result"
    }
   ],
   "source": [
    "y_true = gyp['actual']\n",
    "y_pred = gyp['model1']\n",
    "\n",
    "accuracy_score(y_true, y_pred)"
   ]
  },
  {
   "cell_type": "code",
   "execution_count": 151,
   "id": "9d996af2",
   "metadata": {},
   "outputs": [
    {
     "data": {
      "text/plain": [
       "0.9557467732022127"
      ]
     },
     "execution_count": 151,
     "metadata": {},
     "output_type": "execute_result"
    }
   ],
   "source": [
    "y_true = gyp['actual']\n",
    "y_pred = gyp['model4']\n",
    "\n",
    "recall_score(y_true, y_pred, pos_label='dog')"
   ]
  },
  {
   "cell_type": "code",
   "execution_count": 148,
   "id": "c7c69c1a",
   "metadata": {},
   "outputs": [
    {
     "name": "stdout",
     "output_type": "stream",
     "text": [
      "              precision    recall  f1-score   support\n",
      "\n",
      "         cat       0.69      0.82      0.75      1746\n",
      "         dog       0.89      0.80      0.84      3254\n",
      "\n",
      "    accuracy                           0.81      5000\n",
      "   macro avg       0.79      0.81      0.80      5000\n",
      "weighted avg       0.82      0.81      0.81      5000\n",
      "\n"
     ]
    }
   ],
   "source": [
    "y_true = gyp['actual']\n",
    "y_pred = gyp['model1']\n",
    "\n",
    "print(classification_report(y_true, y_pred))"
   ]
  },
  {
   "cell_type": "code",
   "execution_count": 149,
   "id": "b0756868",
   "metadata": {},
   "outputs": [
    {
     "name": "stdout",
     "output_type": "stream",
     "text": [
      "              precision    recall  f1-score   support\n",
      "\n",
      "         cat       0.81      0.35      0.48      1746\n",
      "         dog       0.73      0.96      0.83      3254\n",
      "\n",
      "    accuracy                           0.74      5000\n",
      "   macro avg       0.77      0.65      0.66      5000\n",
      "weighted avg       0.76      0.74      0.71      5000\n",
      "\n"
     ]
    }
   ],
   "source": [
    "y_true = gyp['actual']\n",
    "y_pred = gyp['model4']\n",
    "\n",
    "print(classification_report(y_true, y_pred))"
   ]
  },
  {
   "cell_type": "code",
   "execution_count": null,
   "id": "2b8dce6f",
   "metadata": {},
   "outputs": [],
   "source": []
  }
 ],
 "metadata": {
  "kernelspec": {
   "display_name": "Python 3 (ipykernel)",
   "language": "python",
   "name": "python3"
  },
  "language_info": {
   "codemirror_mode": {
    "name": "ipython",
    "version": 3
   },
   "file_extension": ".py",
   "mimetype": "text/x-python",
   "name": "python",
   "nbconvert_exporter": "python",
   "pygments_lexer": "ipython3",
   "version": "3.9.13"
  }
 },
 "nbformat": 4,
 "nbformat_minor": 5
}
