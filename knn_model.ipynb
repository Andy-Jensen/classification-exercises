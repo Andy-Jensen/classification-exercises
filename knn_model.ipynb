{
 "cells": [
  {
   "cell_type": "code",
   "execution_count": 1,
   "id": "389ccfa4",
   "metadata": {},
   "outputs": [],
   "source": [
    "#importing standard libraries\n",
    "import pandas as pd\n",
    "import numpy as np\n",
    "import matplotlib.pyplot as plt\n",
    "\n",
    "#importing libraries for modeling\n",
    "from sklearn.model_selection import train_test_split\n",
    "from prepare import tts\n",
    "from sklearn.tree import plot_tree\n",
    "from sklearn.metrics import classification_report, confusion_matrix\n",
    "from sklearn.neighbors import KNeighborsClassifier\n",
    "from env import get_connection\n",
    "import acquire"
   ]
  },
  {
   "cell_type": "code",
   "execution_count": 2,
   "id": "5702a256",
   "metadata": {},
   "outputs": [],
   "source": [
    "# function to get the titanic data from my acquire file\n",
    "\n",
    "def prep_titanic():\n",
    "    titan=acquire.get_titanic()\n",
    "    titan.drop(columns=['passenger_id', 'embarked', 'deck', 'age', 'class'], inplace=True)\n",
    "    dummy_var=pd.get_dummies(titan[['embark_town', 'sex']], drop_first=True)\n",
    "    titan=pd.concat([titan, dummy_var], axis=1)\n",
    "    return titan"
   ]
  },
  {
   "cell_type": "code",
   "execution_count": 3,
   "id": "5c32f109",
   "metadata": {},
   "outputs": [
    {
     "data": {
      "text/html": [
       "<div>\n",
       "<style scoped>\n",
       "    .dataframe tbody tr th:only-of-type {\n",
       "        vertical-align: middle;\n",
       "    }\n",
       "\n",
       "    .dataframe tbody tr th {\n",
       "        vertical-align: top;\n",
       "    }\n",
       "\n",
       "    .dataframe thead th {\n",
       "        text-align: right;\n",
       "    }\n",
       "</style>\n",
       "<table border=\"1\" class=\"dataframe\">\n",
       "  <thead>\n",
       "    <tr style=\"text-align: right;\">\n",
       "      <th></th>\n",
       "      <th>survived</th>\n",
       "      <th>pclass</th>\n",
       "      <th>sex</th>\n",
       "      <th>sibsp</th>\n",
       "      <th>parch</th>\n",
       "      <th>fare</th>\n",
       "      <th>embark_town</th>\n",
       "      <th>alone</th>\n",
       "      <th>embark_town_Queenstown</th>\n",
       "      <th>embark_town_Southampton</th>\n",
       "      <th>sex_male</th>\n",
       "    </tr>\n",
       "  </thead>\n",
       "  <tbody>\n",
       "    <tr>\n",
       "      <th>0</th>\n",
       "      <td>0</td>\n",
       "      <td>3</td>\n",
       "      <td>male</td>\n",
       "      <td>1</td>\n",
       "      <td>0</td>\n",
       "      <td>7.2500</td>\n",
       "      <td>Southampton</td>\n",
       "      <td>0</td>\n",
       "      <td>0</td>\n",
       "      <td>1</td>\n",
       "      <td>1</td>\n",
       "    </tr>\n",
       "    <tr>\n",
       "      <th>1</th>\n",
       "      <td>1</td>\n",
       "      <td>1</td>\n",
       "      <td>female</td>\n",
       "      <td>1</td>\n",
       "      <td>0</td>\n",
       "      <td>71.2833</td>\n",
       "      <td>Cherbourg</td>\n",
       "      <td>0</td>\n",
       "      <td>0</td>\n",
       "      <td>0</td>\n",
       "      <td>0</td>\n",
       "    </tr>\n",
       "    <tr>\n",
       "      <th>2</th>\n",
       "      <td>1</td>\n",
       "      <td>3</td>\n",
       "      <td>female</td>\n",
       "      <td>0</td>\n",
       "      <td>0</td>\n",
       "      <td>7.9250</td>\n",
       "      <td>Southampton</td>\n",
       "      <td>1</td>\n",
       "      <td>0</td>\n",
       "      <td>1</td>\n",
       "      <td>0</td>\n",
       "    </tr>\n",
       "    <tr>\n",
       "      <th>3</th>\n",
       "      <td>1</td>\n",
       "      <td>1</td>\n",
       "      <td>female</td>\n",
       "      <td>1</td>\n",
       "      <td>0</td>\n",
       "      <td>53.1000</td>\n",
       "      <td>Southampton</td>\n",
       "      <td>0</td>\n",
       "      <td>0</td>\n",
       "      <td>1</td>\n",
       "      <td>0</td>\n",
       "    </tr>\n",
       "    <tr>\n",
       "      <th>4</th>\n",
       "      <td>0</td>\n",
       "      <td>3</td>\n",
       "      <td>male</td>\n",
       "      <td>0</td>\n",
       "      <td>0</td>\n",
       "      <td>8.0500</td>\n",
       "      <td>Southampton</td>\n",
       "      <td>1</td>\n",
       "      <td>0</td>\n",
       "      <td>1</td>\n",
       "      <td>1</td>\n",
       "    </tr>\n",
       "  </tbody>\n",
       "</table>\n",
       "</div>"
      ],
      "text/plain": [
       "   survived  pclass     sex  sibsp  parch     fare  embark_town  alone  \\\n",
       "0         0       3    male      1      0   7.2500  Southampton      0   \n",
       "1         1       1  female      1      0  71.2833    Cherbourg      0   \n",
       "2         1       3  female      0      0   7.9250  Southampton      1   \n",
       "3         1       1  female      1      0  53.1000  Southampton      0   \n",
       "4         0       3    male      0      0   8.0500  Southampton      1   \n",
       "\n",
       "   embark_town_Queenstown  embark_town_Southampton  sex_male  \n",
       "0                       0                        1         1  \n",
       "1                       0                        0         0  \n",
       "2                       0                        1         0  \n",
       "3                       0                        1         0  \n",
       "4                       0                        1         1  "
      ]
     },
     "execution_count": 3,
     "metadata": {},
     "output_type": "execute_result"
    }
   ],
   "source": [
    "#assigning the titanic data to a dataframe\n",
    "\n",
    "df=prep_titanic()\n",
    "\n",
    "df.head()"
   ]
  },
  {
   "cell_type": "code",
   "execution_count": 4,
   "id": "df6d6f51",
   "metadata": {},
   "outputs": [
    {
     "data": {
      "text/plain": [
       "survived                     int64\n",
       "pclass                       int64\n",
       "sex                         object\n",
       "sibsp                        int64\n",
       "parch                        int64\n",
       "fare                       float64\n",
       "embark_town                 object\n",
       "alone                        int64\n",
       "embark_town_Queenstown       uint8\n",
       "embark_town_Southampton      uint8\n",
       "sex_male                     uint8\n",
       "dtype: object"
      ]
     },
     "execution_count": 4,
     "metadata": {},
     "output_type": "execute_result"
    }
   ],
   "source": [
    "df.dtypes"
   ]
  },
  {
   "cell_type": "code",
   "execution_count": 5,
   "id": "36e3e7e7",
   "metadata": {},
   "outputs": [
    {
     "data": {
      "text/html": [
       "<div>\n",
       "<style scoped>\n",
       "    .dataframe tbody tr th:only-of-type {\n",
       "        vertical-align: middle;\n",
       "    }\n",
       "\n",
       "    .dataframe tbody tr th {\n",
       "        vertical-align: top;\n",
       "    }\n",
       "\n",
       "    .dataframe thead th {\n",
       "        text-align: right;\n",
       "    }\n",
       "</style>\n",
       "<table border=\"1\" class=\"dataframe\">\n",
       "  <thead>\n",
       "    <tr style=\"text-align: right;\">\n",
       "      <th></th>\n",
       "      <th>survived</th>\n",
       "      <th>pclass</th>\n",
       "      <th>sibsp</th>\n",
       "      <th>parch</th>\n",
       "      <th>fare</th>\n",
       "      <th>alone</th>\n",
       "      <th>embark_town_Queenstown</th>\n",
       "      <th>embark_town_Southampton</th>\n",
       "      <th>sex_male</th>\n",
       "    </tr>\n",
       "  </thead>\n",
       "  <tbody>\n",
       "    <tr>\n",
       "      <th>0</th>\n",
       "      <td>0</td>\n",
       "      <td>3</td>\n",
       "      <td>1</td>\n",
       "      <td>0</td>\n",
       "      <td>7.2500</td>\n",
       "      <td>0</td>\n",
       "      <td>0</td>\n",
       "      <td>1</td>\n",
       "      <td>1</td>\n",
       "    </tr>\n",
       "    <tr>\n",
       "      <th>1</th>\n",
       "      <td>1</td>\n",
       "      <td>1</td>\n",
       "      <td>1</td>\n",
       "      <td>0</td>\n",
       "      <td>71.2833</td>\n",
       "      <td>0</td>\n",
       "      <td>0</td>\n",
       "      <td>0</td>\n",
       "      <td>0</td>\n",
       "    </tr>\n",
       "    <tr>\n",
       "      <th>2</th>\n",
       "      <td>1</td>\n",
       "      <td>3</td>\n",
       "      <td>0</td>\n",
       "      <td>0</td>\n",
       "      <td>7.9250</td>\n",
       "      <td>1</td>\n",
       "      <td>0</td>\n",
       "      <td>1</td>\n",
       "      <td>0</td>\n",
       "    </tr>\n",
       "    <tr>\n",
       "      <th>3</th>\n",
       "      <td>1</td>\n",
       "      <td>1</td>\n",
       "      <td>1</td>\n",
       "      <td>0</td>\n",
       "      <td>53.1000</td>\n",
       "      <td>0</td>\n",
       "      <td>0</td>\n",
       "      <td>1</td>\n",
       "      <td>0</td>\n",
       "    </tr>\n",
       "    <tr>\n",
       "      <th>4</th>\n",
       "      <td>0</td>\n",
       "      <td>3</td>\n",
       "      <td>0</td>\n",
       "      <td>0</td>\n",
       "      <td>8.0500</td>\n",
       "      <td>1</td>\n",
       "      <td>0</td>\n",
       "      <td>1</td>\n",
       "      <td>1</td>\n",
       "    </tr>\n",
       "  </tbody>\n",
       "</table>\n",
       "</div>"
      ],
      "text/plain": [
       "   survived  pclass  sibsp  parch     fare  alone  embark_town_Queenstown  \\\n",
       "0         0       3      1      0   7.2500      0                       0   \n",
       "1         1       1      1      0  71.2833      0                       0   \n",
       "2         1       3      0      0   7.9250      1                       0   \n",
       "3         1       1      1      0  53.1000      0                       0   \n",
       "4         0       3      0      0   8.0500      1                       0   \n",
       "\n",
       "   embark_town_Southampton  sex_male  \n",
       "0                        1         1  \n",
       "1                        0         0  \n",
       "2                        1         0  \n",
       "3                        1         0  \n",
       "4                        1         1  "
      ]
     },
     "execution_count": 5,
     "metadata": {},
     "output_type": "execute_result"
    }
   ],
   "source": [
    "#dropping columns that have been split into dummy variables\n",
    "\n",
    "df = df.drop(columns=['embark_town', 'sex'])\n",
    "df.head()"
   ]
  },
  {
   "cell_type": "code",
   "execution_count": 6,
   "id": "7899ed69",
   "metadata": {},
   "outputs": [
    {
     "data": {
      "text/html": [
       "<div>\n",
       "<style scoped>\n",
       "    .dataframe tbody tr th:only-of-type {\n",
       "        vertical-align: middle;\n",
       "    }\n",
       "\n",
       "    .dataframe tbody tr th {\n",
       "        vertical-align: top;\n",
       "    }\n",
       "\n",
       "    .dataframe thead th {\n",
       "        text-align: right;\n",
       "    }\n",
       "</style>\n",
       "<table border=\"1\" class=\"dataframe\">\n",
       "  <thead>\n",
       "    <tr style=\"text-align: right;\">\n",
       "      <th></th>\n",
       "      <th>survived</th>\n",
       "      <th>sibsp</th>\n",
       "      <th>parch</th>\n",
       "      <th>fare</th>\n",
       "      <th>alone</th>\n",
       "      <th>embark_town_Queenstown</th>\n",
       "      <th>embark_town_Southampton</th>\n",
       "      <th>sex_male</th>\n",
       "      <th>pclass_2</th>\n",
       "      <th>pclass_3</th>\n",
       "    </tr>\n",
       "  </thead>\n",
       "  <tbody>\n",
       "    <tr>\n",
       "      <th>0</th>\n",
       "      <td>0</td>\n",
       "      <td>1</td>\n",
       "      <td>0</td>\n",
       "      <td>7.2500</td>\n",
       "      <td>0</td>\n",
       "      <td>0</td>\n",
       "      <td>1</td>\n",
       "      <td>1</td>\n",
       "      <td>0</td>\n",
       "      <td>1</td>\n",
       "    </tr>\n",
       "    <tr>\n",
       "      <th>1</th>\n",
       "      <td>1</td>\n",
       "      <td>1</td>\n",
       "      <td>0</td>\n",
       "      <td>71.2833</td>\n",
       "      <td>0</td>\n",
       "      <td>0</td>\n",
       "      <td>0</td>\n",
       "      <td>0</td>\n",
       "      <td>0</td>\n",
       "      <td>0</td>\n",
       "    </tr>\n",
       "    <tr>\n",
       "      <th>2</th>\n",
       "      <td>1</td>\n",
       "      <td>0</td>\n",
       "      <td>0</td>\n",
       "      <td>7.9250</td>\n",
       "      <td>1</td>\n",
       "      <td>0</td>\n",
       "      <td>1</td>\n",
       "      <td>0</td>\n",
       "      <td>0</td>\n",
       "      <td>1</td>\n",
       "    </tr>\n",
       "    <tr>\n",
       "      <th>3</th>\n",
       "      <td>1</td>\n",
       "      <td>1</td>\n",
       "      <td>0</td>\n",
       "      <td>53.1000</td>\n",
       "      <td>0</td>\n",
       "      <td>0</td>\n",
       "      <td>1</td>\n",
       "      <td>0</td>\n",
       "      <td>0</td>\n",
       "      <td>0</td>\n",
       "    </tr>\n",
       "    <tr>\n",
       "      <th>4</th>\n",
       "      <td>0</td>\n",
       "      <td>0</td>\n",
       "      <td>0</td>\n",
       "      <td>8.0500</td>\n",
       "      <td>1</td>\n",
       "      <td>0</td>\n",
       "      <td>1</td>\n",
       "      <td>1</td>\n",
       "      <td>0</td>\n",
       "      <td>1</td>\n",
       "    </tr>\n",
       "  </tbody>\n",
       "</table>\n",
       "</div>"
      ],
      "text/plain": [
       "   survived  sibsp  parch     fare  alone  embark_town_Queenstown  \\\n",
       "0         0      1      0   7.2500      0                       0   \n",
       "1         1      1      0  71.2833      0                       0   \n",
       "2         1      0      0   7.9250      1                       0   \n",
       "3         1      1      0  53.1000      0                       0   \n",
       "4         0      0      0   8.0500      1                       0   \n",
       "\n",
       "   embark_town_Southampton  sex_male  pclass_2  pclass_3  \n",
       "0                        1         1         0         1  \n",
       "1                        0         0         0         0  \n",
       "2                        1         0         0         1  \n",
       "3                        1         0         0         0  \n",
       "4                        1         1         0         1  "
      ]
     },
     "execution_count": 6,
     "metadata": {},
     "output_type": "execute_result"
    }
   ],
   "source": [
    "#Adding another dummy variable for pclass and dropping the original column\n",
    "\n",
    "df=pd.get_dummies(df, columns=['pclass'], drop_first=True)\n",
    "\n",
    "df.head()"
   ]
  },
  {
   "cell_type": "code",
   "execution_count": 7,
   "id": "8f3df88a",
   "metadata": {},
   "outputs": [
    {
     "name": "stdout",
     "output_type": "stream",
     "text": [
      "stratify=survived\n"
     ]
    }
   ],
   "source": [
    "t_train, t_val, t_test = tts(df)\n"
   ]
  },
  {
   "cell_type": "code",
   "execution_count": 8,
   "id": "6d64b155",
   "metadata": {},
   "outputs": [],
   "source": [
    "#assigning the X and y train variables for modeling\n",
    "\n",
    "X_train = t_train.drop(columns=['survived'])\n",
    "y_train = t_train['survived']\n",
    "\n",
    "X_val = t_val.drop(columns=['survived'])\n",
    "y_val = t_val['survived']\n",
    "\n",
    "X_test = t_test.drop(columns=['survived'])\n",
    "y_test = t_test['survived']"
   ]
  },
  {
   "cell_type": "markdown",
   "id": "8a711de2",
   "metadata": {},
   "source": [
    "# Fit a K-Nearest Neighbors classifier to your training sample and transform (i.e. make predictions on the training sample)\n",
    "\n"
   ]
  },
  {
   "cell_type": "code",
   "execution_count": 9,
   "id": "1f93f5d2",
   "metadata": {},
   "outputs": [],
   "source": [
    "# building the model\n",
    "knn = KNeighborsClassifier(n_neighbors=3)"
   ]
  },
  {
   "cell_type": "code",
   "execution_count": 10,
   "id": "dfe51a7a",
   "metadata": {},
   "outputs": [
    {
     "data": {
      "text/html": [
       "<style>#sk-container-id-1 {color: black;background-color: white;}#sk-container-id-1 pre{padding: 0;}#sk-container-id-1 div.sk-toggleable {background-color: white;}#sk-container-id-1 label.sk-toggleable__label {cursor: pointer;display: block;width: 100%;margin-bottom: 0;padding: 0.3em;box-sizing: border-box;text-align: center;}#sk-container-id-1 label.sk-toggleable__label-arrow:before {content: \"▸\";float: left;margin-right: 0.25em;color: #696969;}#sk-container-id-1 label.sk-toggleable__label-arrow:hover:before {color: black;}#sk-container-id-1 div.sk-estimator:hover label.sk-toggleable__label-arrow:before {color: black;}#sk-container-id-1 div.sk-toggleable__content {max-height: 0;max-width: 0;overflow: hidden;text-align: left;background-color: #f0f8ff;}#sk-container-id-1 div.sk-toggleable__content pre {margin: 0.2em;color: black;border-radius: 0.25em;background-color: #f0f8ff;}#sk-container-id-1 input.sk-toggleable__control:checked~div.sk-toggleable__content {max-height: 200px;max-width: 100%;overflow: auto;}#sk-container-id-1 input.sk-toggleable__control:checked~label.sk-toggleable__label-arrow:before {content: \"▾\";}#sk-container-id-1 div.sk-estimator input.sk-toggleable__control:checked~label.sk-toggleable__label {background-color: #d4ebff;}#sk-container-id-1 div.sk-label input.sk-toggleable__control:checked~label.sk-toggleable__label {background-color: #d4ebff;}#sk-container-id-1 input.sk-hidden--visually {border: 0;clip: rect(1px 1px 1px 1px);clip: rect(1px, 1px, 1px, 1px);height: 1px;margin: -1px;overflow: hidden;padding: 0;position: absolute;width: 1px;}#sk-container-id-1 div.sk-estimator {font-family: monospace;background-color: #f0f8ff;border: 1px dotted black;border-radius: 0.25em;box-sizing: border-box;margin-bottom: 0.5em;}#sk-container-id-1 div.sk-estimator:hover {background-color: #d4ebff;}#sk-container-id-1 div.sk-parallel-item::after {content: \"\";width: 100%;border-bottom: 1px solid gray;flex-grow: 1;}#sk-container-id-1 div.sk-label:hover label.sk-toggleable__label {background-color: #d4ebff;}#sk-container-id-1 div.sk-serial::before {content: \"\";position: absolute;border-left: 1px solid gray;box-sizing: border-box;top: 0;bottom: 0;left: 50%;z-index: 0;}#sk-container-id-1 div.sk-serial {display: flex;flex-direction: column;align-items: center;background-color: white;padding-right: 0.2em;padding-left: 0.2em;position: relative;}#sk-container-id-1 div.sk-item {position: relative;z-index: 1;}#sk-container-id-1 div.sk-parallel {display: flex;align-items: stretch;justify-content: center;background-color: white;position: relative;}#sk-container-id-1 div.sk-item::before, #sk-container-id-1 div.sk-parallel-item::before {content: \"\";position: absolute;border-left: 1px solid gray;box-sizing: border-box;top: 0;bottom: 0;left: 50%;z-index: -1;}#sk-container-id-1 div.sk-parallel-item {display: flex;flex-direction: column;z-index: 1;position: relative;background-color: white;}#sk-container-id-1 div.sk-parallel-item:first-child::after {align-self: flex-end;width: 50%;}#sk-container-id-1 div.sk-parallel-item:last-child::after {align-self: flex-start;width: 50%;}#sk-container-id-1 div.sk-parallel-item:only-child::after {width: 0;}#sk-container-id-1 div.sk-dashed-wrapped {border: 1px dashed gray;margin: 0 0.4em 0.5em 0.4em;box-sizing: border-box;padding-bottom: 0.4em;background-color: white;}#sk-container-id-1 div.sk-label label {font-family: monospace;font-weight: bold;display: inline-block;line-height: 1.2em;}#sk-container-id-1 div.sk-label-container {text-align: center;}#sk-container-id-1 div.sk-container {/* jupyter's `normalize.less` sets `[hidden] { display: none; }` but bootstrap.min.css set `[hidden] { display: none !important; }` so we also need the `!important` here to be able to override the default hidden behavior on the sphinx rendered scikit-learn.org. See: https://github.com/scikit-learn/scikit-learn/issues/21755 */display: inline-block !important;position: relative;}#sk-container-id-1 div.sk-text-repr-fallback {display: none;}</style><div id=\"sk-container-id-1\" class=\"sk-top-container\"><div class=\"sk-text-repr-fallback\"><pre>KNeighborsClassifier(n_neighbors=3)</pre><b>In a Jupyter environment, please rerun this cell to show the HTML representation or trust the notebook. <br />On GitHub, the HTML representation is unable to render, please try loading this page with nbviewer.org.</b></div><div class=\"sk-container\" hidden><div class=\"sk-item\"><div class=\"sk-estimator sk-toggleable\"><input class=\"sk-toggleable__control sk-hidden--visually\" id=\"sk-estimator-id-1\" type=\"checkbox\" checked><label for=\"sk-estimator-id-1\" class=\"sk-toggleable__label sk-toggleable__label-arrow\">KNeighborsClassifier</label><div class=\"sk-toggleable__content\"><pre>KNeighborsClassifier(n_neighbors=3)</pre></div></div></div></div></div>"
      ],
      "text/plain": [
       "KNeighborsClassifier(n_neighbors=3)"
      ]
     },
     "execution_count": 10,
     "metadata": {},
     "output_type": "execute_result"
    }
   ],
   "source": [
    "#fit the model\n",
    "knn.fit(X_train, y_train)"
   ]
  },
  {
   "cell_type": "code",
   "execution_count": 11,
   "id": "25a7fc3c",
   "metadata": {},
   "outputs": [
    {
     "name": "stderr",
     "output_type": "stream",
     "text": [
      "/opt/homebrew/anaconda3/lib/python3.9/site-packages/sklearn/neighbors/_classification.py:237: FutureWarning: Unlike other reduction functions (e.g. `skew`, `kurtosis`), the default behavior of `mode` typically preserves the axis it acts along. In SciPy 1.11.0, this behavior will change: the default value of `keepdims` will become False, the `axis` over which the statistic is taken will be eliminated, and the value None will no longer be accepted. Set `keepdims` to True or False to avoid this warning.\n",
      "  mode, _ = stats.mode(_y[neigh_ind, k], axis=1)\n"
     ]
    }
   ],
   "source": [
    "#making predictions using the model\n",
    "y_pred= knn.predict(X_train)"
   ]
  },
  {
   "cell_type": "markdown",
   "id": "3e4f4543",
   "metadata": {},
   "source": [
    "# Evaluate your results using the model score, confusion matrix, and classification report.\n",
    "\n"
   ]
  },
  {
   "cell_type": "code",
   "execution_count": 12,
   "id": "7086273b",
   "metadata": {},
   "outputs": [
    {
     "name": "stderr",
     "output_type": "stream",
     "text": [
      "/opt/homebrew/anaconda3/lib/python3.9/site-packages/sklearn/neighbors/_classification.py:237: FutureWarning: Unlike other reduction functions (e.g. `skew`, `kurtosis`), the default behavior of `mode` typically preserves the axis it acts along. In SciPy 1.11.0, this behavior will change: the default value of `keepdims` will become False, the `axis` over which the statistic is taken will be eliminated, and the value None will no longer be accepted. Set `keepdims` to True or False to avoid this warning.\n",
      "  mode, _ = stats.mode(_y[neigh_ind, k], axis=1)\n"
     ]
    },
    {
     "data": {
      "text/plain": [
       "0.8514056224899599"
      ]
     },
     "execution_count": 12,
     "metadata": {},
     "output_type": "execute_result"
    }
   ],
   "source": [
    "knn.score(X_train, y_train)"
   ]
  },
  {
   "cell_type": "code",
   "execution_count": 13,
   "id": "d80da451",
   "metadata": {},
   "outputs": [
    {
     "data": {
      "text/html": [
       "<div>\n",
       "<style scoped>\n",
       "    .dataframe tbody tr th:only-of-type {\n",
       "        vertical-align: middle;\n",
       "    }\n",
       "\n",
       "    .dataframe tbody tr th {\n",
       "        vertical-align: top;\n",
       "    }\n",
       "\n",
       "    .dataframe thead th {\n",
       "        text-align: right;\n",
       "    }\n",
       "</style>\n",
       "<table border=\"1\" class=\"dataframe\">\n",
       "  <thead>\n",
       "    <tr style=\"text-align: right;\">\n",
       "      <th></th>\n",
       "      <th>pred died</th>\n",
       "      <th>pred survived</th>\n",
       "    </tr>\n",
       "  </thead>\n",
       "  <tbody>\n",
       "    <tr>\n",
       "      <th>actually died</th>\n",
       "      <td>270</td>\n",
       "      <td>37</td>\n",
       "    </tr>\n",
       "    <tr>\n",
       "      <th>actually survived</th>\n",
       "      <td>37</td>\n",
       "      <td>154</td>\n",
       "    </tr>\n",
       "  </tbody>\n",
       "</table>\n",
       "</div>"
      ],
      "text/plain": [
       "                   pred died  pred survived\n",
       "actually died            270             37\n",
       "actually survived         37            154"
      ]
     },
     "execution_count": 13,
     "metadata": {},
     "output_type": "execute_result"
    }
   ],
   "source": [
    "cmt=pd.DataFrame(data=confusion_matrix(y_train, y_pred), \n",
    "             columns= ['pred died', 'pred survived'], \n",
    "             index= ['actually died', 'actually survived'])\n",
    "cmt"
   ]
  },
  {
   "cell_type": "code",
   "execution_count": 58,
   "id": "8549dd42",
   "metadata": {
    "scrolled": true
   },
   "outputs": [
    {
     "data": {
      "text/html": [
       "<div>\n",
       "<style scoped>\n",
       "    .dataframe tbody tr th:only-of-type {\n",
       "        vertical-align: middle;\n",
       "    }\n",
       "\n",
       "    .dataframe tbody tr th {\n",
       "        vertical-align: top;\n",
       "    }\n",
       "\n",
       "    .dataframe thead th {\n",
       "        text-align: right;\n",
       "    }\n",
       "</style>\n",
       "<table border=\"1\" class=\"dataframe\">\n",
       "  <thead>\n",
       "    <tr style=\"text-align: right;\">\n",
       "      <th></th>\n",
       "      <th>died</th>\n",
       "      <th>survived</th>\n",
       "      <th>accuracy</th>\n",
       "      <th>macro avg</th>\n",
       "      <th>weighted avg</th>\n",
       "    </tr>\n",
       "  </thead>\n",
       "  <tbody>\n",
       "    <tr>\n",
       "      <th>precision</th>\n",
       "      <td>0.879479</td>\n",
       "      <td>0.806283</td>\n",
       "      <td>0.851406</td>\n",
       "      <td>0.842881</td>\n",
       "      <td>0.851406</td>\n",
       "    </tr>\n",
       "    <tr>\n",
       "      <th>recall</th>\n",
       "      <td>0.879479</td>\n",
       "      <td>0.806283</td>\n",
       "      <td>0.851406</td>\n",
       "      <td>0.842881</td>\n",
       "      <td>0.851406</td>\n",
       "    </tr>\n",
       "    <tr>\n",
       "      <th>f1-score</th>\n",
       "      <td>0.879479</td>\n",
       "      <td>0.806283</td>\n",
       "      <td>0.851406</td>\n",
       "      <td>0.842881</td>\n",
       "      <td>0.851406</td>\n",
       "    </tr>\n",
       "    <tr>\n",
       "      <th>support</th>\n",
       "      <td>307.000000</td>\n",
       "      <td>191.000000</td>\n",
       "      <td>0.851406</td>\n",
       "      <td>498.000000</td>\n",
       "      <td>498.000000</td>\n",
       "    </tr>\n",
       "  </tbody>\n",
       "</table>\n",
       "</div>"
      ],
      "text/plain": [
       "                 died    survived  accuracy   macro avg  weighted avg\n",
       "precision    0.879479    0.806283  0.851406    0.842881      0.851406\n",
       "recall       0.879479    0.806283  0.851406    0.842881      0.851406\n",
       "f1-score     0.879479    0.806283  0.851406    0.842881      0.851406\n",
       "support    307.000000  191.000000  0.851406  498.000000    498.000000"
      ]
     },
     "execution_count": 58,
     "metadata": {},
     "output_type": "execute_result"
    }
   ],
   "source": [
    "traindf = pd.DataFrame(classification_report(y_train, y_pred, output_dict=True, \n",
    "                                   target_names=['died', 'survived']))\n",
    "traindf"
   ]
  },
  {
   "cell_type": "markdown",
   "id": "fce6c401",
   "metadata": {},
   "source": [
    "# Print and clearly label the following: Accuracy, true positive rate, false positive rate, true negative rate, false negative rate, precision, recall, f1-score, and support.\n",
    "\n"
   ]
  },
  {
   "cell_type": "code",
   "execution_count": 37,
   "id": "5f9c58a2",
   "metadata": {},
   "outputs": [
    {
     "name": "stdout",
     "output_type": "stream",
     "text": [
      "Accuracy is 85.14%\n",
      "Precision is 80.63%\n",
      "Recall is 80.63%\n",
      "F1-score is 80.63%\n",
      "Support is 191.0\n",
      "True positive rate is 80.63%\n",
      "False positive rate is 19.37%\n",
      "True negative rate is 87.9%\n",
      "False negative rate is 12.1%\n"
     ]
    }
   ],
   "source": [
    "#assigning data results to variables\n",
    "\n",
    "accuracy= traindf.iloc[1:]['accuracy'][0]\n",
    "precision= traindf.iloc[0:2]['survived'][0]\n",
    "recall= traindf.iloc[1:2]['survived'][0]\n",
    "f1= traindf.iloc[2:3]['survived'][0]\n",
    "support= traindf.iloc[3:4]['survived'][0]\n",
    "tn, fp, fn, tp= confusion_matrix(y_train, y_pred).ravel()\n",
    "neg= tn+fp\n",
    "pos= fn+tp\n",
    "tpr=(tp/pos).round(4)*100\n",
    "fpr=(fp/pos).round(4)*100\n",
    "tnr=(tn/neg).round(3)*100\n",
    "fnr=(fn/neg).round(3)*100\n",
    "#printing results using vairables\n",
    "\n",
    "print(f'Accuracy is {accuracy.round(4)*100}%')\n",
    "print(f'Precision is {precision.round(4)*100}%')\n",
    "print(f'Recall is {recall.round(4)*100}%')\n",
    "print(f'F1-score is {f1.round(4)*100}%')\n",
    "print(f'Support is {support}')\n",
    "print(f'True positive rate is {tpr}%')\n",
    "print(f'False positive rate is {fpr}%')\n",
    "print(f'True negative rate is {tnr}%')\n",
    "print(f'False negative rate is {fnr}%')"
   ]
  },
  {
   "cell_type": "markdown",
   "id": "b9e1c2fc",
   "metadata": {},
   "source": [
    "# Run through steps 1-3 setting k to 10\n",
    "\n"
   ]
  },
  {
   "cell_type": "code",
   "execution_count": 16,
   "id": "9682913e",
   "metadata": {},
   "outputs": [],
   "source": [
    "# setting number of nearest neighbors to 10\n",
    "knn10 = KNeighborsClassifier(n_neighbors=10)"
   ]
  },
  {
   "cell_type": "code",
   "execution_count": 17,
   "id": "7129f320",
   "metadata": {},
   "outputs": [
    {
     "data": {
      "text/html": [
       "<style>#sk-container-id-2 {color: black;background-color: white;}#sk-container-id-2 pre{padding: 0;}#sk-container-id-2 div.sk-toggleable {background-color: white;}#sk-container-id-2 label.sk-toggleable__label {cursor: pointer;display: block;width: 100%;margin-bottom: 0;padding: 0.3em;box-sizing: border-box;text-align: center;}#sk-container-id-2 label.sk-toggleable__label-arrow:before {content: \"▸\";float: left;margin-right: 0.25em;color: #696969;}#sk-container-id-2 label.sk-toggleable__label-arrow:hover:before {color: black;}#sk-container-id-2 div.sk-estimator:hover label.sk-toggleable__label-arrow:before {color: black;}#sk-container-id-2 div.sk-toggleable__content {max-height: 0;max-width: 0;overflow: hidden;text-align: left;background-color: #f0f8ff;}#sk-container-id-2 div.sk-toggleable__content pre {margin: 0.2em;color: black;border-radius: 0.25em;background-color: #f0f8ff;}#sk-container-id-2 input.sk-toggleable__control:checked~div.sk-toggleable__content {max-height: 200px;max-width: 100%;overflow: auto;}#sk-container-id-2 input.sk-toggleable__control:checked~label.sk-toggleable__label-arrow:before {content: \"▾\";}#sk-container-id-2 div.sk-estimator input.sk-toggleable__control:checked~label.sk-toggleable__label {background-color: #d4ebff;}#sk-container-id-2 div.sk-label input.sk-toggleable__control:checked~label.sk-toggleable__label {background-color: #d4ebff;}#sk-container-id-2 input.sk-hidden--visually {border: 0;clip: rect(1px 1px 1px 1px);clip: rect(1px, 1px, 1px, 1px);height: 1px;margin: -1px;overflow: hidden;padding: 0;position: absolute;width: 1px;}#sk-container-id-2 div.sk-estimator {font-family: monospace;background-color: #f0f8ff;border: 1px dotted black;border-radius: 0.25em;box-sizing: border-box;margin-bottom: 0.5em;}#sk-container-id-2 div.sk-estimator:hover {background-color: #d4ebff;}#sk-container-id-2 div.sk-parallel-item::after {content: \"\";width: 100%;border-bottom: 1px solid gray;flex-grow: 1;}#sk-container-id-2 div.sk-label:hover label.sk-toggleable__label {background-color: #d4ebff;}#sk-container-id-2 div.sk-serial::before {content: \"\";position: absolute;border-left: 1px solid gray;box-sizing: border-box;top: 0;bottom: 0;left: 50%;z-index: 0;}#sk-container-id-2 div.sk-serial {display: flex;flex-direction: column;align-items: center;background-color: white;padding-right: 0.2em;padding-left: 0.2em;position: relative;}#sk-container-id-2 div.sk-item {position: relative;z-index: 1;}#sk-container-id-2 div.sk-parallel {display: flex;align-items: stretch;justify-content: center;background-color: white;position: relative;}#sk-container-id-2 div.sk-item::before, #sk-container-id-2 div.sk-parallel-item::before {content: \"\";position: absolute;border-left: 1px solid gray;box-sizing: border-box;top: 0;bottom: 0;left: 50%;z-index: -1;}#sk-container-id-2 div.sk-parallel-item {display: flex;flex-direction: column;z-index: 1;position: relative;background-color: white;}#sk-container-id-2 div.sk-parallel-item:first-child::after {align-self: flex-end;width: 50%;}#sk-container-id-2 div.sk-parallel-item:last-child::after {align-self: flex-start;width: 50%;}#sk-container-id-2 div.sk-parallel-item:only-child::after {width: 0;}#sk-container-id-2 div.sk-dashed-wrapped {border: 1px dashed gray;margin: 0 0.4em 0.5em 0.4em;box-sizing: border-box;padding-bottom: 0.4em;background-color: white;}#sk-container-id-2 div.sk-label label {font-family: monospace;font-weight: bold;display: inline-block;line-height: 1.2em;}#sk-container-id-2 div.sk-label-container {text-align: center;}#sk-container-id-2 div.sk-container {/* jupyter's `normalize.less` sets `[hidden] { display: none; }` but bootstrap.min.css set `[hidden] { display: none !important; }` so we also need the `!important` here to be able to override the default hidden behavior on the sphinx rendered scikit-learn.org. See: https://github.com/scikit-learn/scikit-learn/issues/21755 */display: inline-block !important;position: relative;}#sk-container-id-2 div.sk-text-repr-fallback {display: none;}</style><div id=\"sk-container-id-2\" class=\"sk-top-container\"><div class=\"sk-text-repr-fallback\"><pre>KNeighborsClassifier(n_neighbors=10)</pre><b>In a Jupyter environment, please rerun this cell to show the HTML representation or trust the notebook. <br />On GitHub, the HTML representation is unable to render, please try loading this page with nbviewer.org.</b></div><div class=\"sk-container\" hidden><div class=\"sk-item\"><div class=\"sk-estimator sk-toggleable\"><input class=\"sk-toggleable__control sk-hidden--visually\" id=\"sk-estimator-id-2\" type=\"checkbox\" checked><label for=\"sk-estimator-id-2\" class=\"sk-toggleable__label sk-toggleable__label-arrow\">KNeighborsClassifier</label><div class=\"sk-toggleable__content\"><pre>KNeighborsClassifier(n_neighbors=10)</pre></div></div></div></div></div>"
      ],
      "text/plain": [
       "KNeighborsClassifier(n_neighbors=10)"
      ]
     },
     "execution_count": 17,
     "metadata": {},
     "output_type": "execute_result"
    }
   ],
   "source": [
    "#fitting the new model\n",
    "knn10.fit(X_train,y_train)"
   ]
  },
  {
   "cell_type": "code",
   "execution_count": 18,
   "id": "8348e0d8",
   "metadata": {},
   "outputs": [
    {
     "name": "stderr",
     "output_type": "stream",
     "text": [
      "/opt/homebrew/anaconda3/lib/python3.9/site-packages/sklearn/neighbors/_classification.py:237: FutureWarning: Unlike other reduction functions (e.g. `skew`, `kurtosis`), the default behavior of `mode` typically preserves the axis it acts along. In SciPy 1.11.0, this behavior will change: the default value of `keepdims` will become False, the `axis` over which the statistic is taken will be eliminated, and the value None will no longer be accepted. Set `keepdims` to True or False to avoid this warning.\n",
      "  mode, _ = stats.mode(_y[neigh_ind, k], axis=1)\n"
     ]
    }
   ],
   "source": [
    "#making predictions using the new model\n",
    "y_pred10= knn10.predict(X_train)"
   ]
  },
  {
   "cell_type": "code",
   "execution_count": 19,
   "id": "c8b0bd3f",
   "metadata": {},
   "outputs": [
    {
     "name": "stderr",
     "output_type": "stream",
     "text": [
      "/opt/homebrew/anaconda3/lib/python3.9/site-packages/sklearn/neighbors/_classification.py:237: FutureWarning: Unlike other reduction functions (e.g. `skew`, `kurtosis`), the default behavior of `mode` typically preserves the axis it acts along. In SciPy 1.11.0, this behavior will change: the default value of `keepdims` will become False, the `axis` over which the statistic is taken will be eliminated, and the value None will no longer be accepted. Set `keepdims` to True or False to avoid this warning.\n",
      "  mode, _ = stats.mode(_y[neigh_ind, k], axis=1)\n"
     ]
    },
    {
     "data": {
      "text/plain": [
       "0.7991967871485943"
      ]
     },
     "execution_count": 19,
     "metadata": {},
     "output_type": "execute_result"
    }
   ],
   "source": [
    "#evaluating the model\n",
    "knn10.score(X_train, y_train)"
   ]
  },
  {
   "cell_type": "code",
   "execution_count": 20,
   "id": "1b257d78",
   "metadata": {},
   "outputs": [
    {
     "data": {
      "text/html": [
       "<div>\n",
       "<style scoped>\n",
       "    .dataframe tbody tr th:only-of-type {\n",
       "        vertical-align: middle;\n",
       "    }\n",
       "\n",
       "    .dataframe tbody tr th {\n",
       "        vertical-align: top;\n",
       "    }\n",
       "\n",
       "    .dataframe thead th {\n",
       "        text-align: right;\n",
       "    }\n",
       "</style>\n",
       "<table border=\"1\" class=\"dataframe\">\n",
       "  <thead>\n",
       "    <tr style=\"text-align: right;\">\n",
       "      <th></th>\n",
       "      <th>pred died</th>\n",
       "      <th>pred survived</th>\n",
       "    </tr>\n",
       "  </thead>\n",
       "  <tbody>\n",
       "    <tr>\n",
       "      <th>actually died</th>\n",
       "      <td>264</td>\n",
       "      <td>43</td>\n",
       "    </tr>\n",
       "    <tr>\n",
       "      <th>actually survived</th>\n",
       "      <td>57</td>\n",
       "      <td>134</td>\n",
       "    </tr>\n",
       "  </tbody>\n",
       "</table>\n",
       "</div>"
      ],
      "text/plain": [
       "                   pred died  pred survived\n",
       "actually died            264             43\n",
       "actually survived         57            134"
      ]
     },
     "execution_count": 20,
     "metadata": {},
     "output_type": "execute_result"
    }
   ],
   "source": [
    "#making a confusion matrix with the new model\n",
    "cmt10=pd.DataFrame(data=confusion_matrix(y_train, y_pred10), \n",
    "             columns= ['pred died', 'pred survived'], \n",
    "             index= ['actually died', 'actually survived'])\n",
    "cmt10"
   ]
  },
  {
   "cell_type": "code",
   "execution_count": 21,
   "id": "4d0b8861",
   "metadata": {},
   "outputs": [
    {
     "data": {
      "text/html": [
       "<div>\n",
       "<style scoped>\n",
       "    .dataframe tbody tr th:only-of-type {\n",
       "        vertical-align: middle;\n",
       "    }\n",
       "\n",
       "    .dataframe tbody tr th {\n",
       "        vertical-align: top;\n",
       "    }\n",
       "\n",
       "    .dataframe thead th {\n",
       "        text-align: right;\n",
       "    }\n",
       "</style>\n",
       "<table border=\"1\" class=\"dataframe\">\n",
       "  <thead>\n",
       "    <tr style=\"text-align: right;\">\n",
       "      <th></th>\n",
       "      <th>died</th>\n",
       "      <th>survived</th>\n",
       "      <th>accuracy</th>\n",
       "      <th>macro avg</th>\n",
       "      <th>weighted avg</th>\n",
       "    </tr>\n",
       "  </thead>\n",
       "  <tbody>\n",
       "    <tr>\n",
       "      <th>precision</th>\n",
       "      <td>0.822430</td>\n",
       "      <td>0.757062</td>\n",
       "      <td>0.799197</td>\n",
       "      <td>0.789746</td>\n",
       "      <td>0.797359</td>\n",
       "    </tr>\n",
       "    <tr>\n",
       "      <th>recall</th>\n",
       "      <td>0.859935</td>\n",
       "      <td>0.701571</td>\n",
       "      <td>0.799197</td>\n",
       "      <td>0.780753</td>\n",
       "      <td>0.799197</td>\n",
       "    </tr>\n",
       "    <tr>\n",
       "      <th>f1-score</th>\n",
       "      <td>0.840764</td>\n",
       "      <td>0.728261</td>\n",
       "      <td>0.799197</td>\n",
       "      <td>0.784513</td>\n",
       "      <td>0.797615</td>\n",
       "    </tr>\n",
       "    <tr>\n",
       "      <th>support</th>\n",
       "      <td>307.000000</td>\n",
       "      <td>191.000000</td>\n",
       "      <td>0.799197</td>\n",
       "      <td>498.000000</td>\n",
       "      <td>498.000000</td>\n",
       "    </tr>\n",
       "  </tbody>\n",
       "</table>\n",
       "</div>"
      ],
      "text/plain": [
       "                 died    survived  accuracy   macro avg  weighted avg\n",
       "precision    0.822430    0.757062  0.799197    0.789746      0.797359\n",
       "recall       0.859935    0.701571  0.799197    0.780753      0.799197\n",
       "f1-score     0.840764    0.728261  0.799197    0.784513      0.797615\n",
       "support    307.000000  191.000000  0.799197  498.000000    498.000000"
      ]
     },
     "execution_count": 21,
     "metadata": {},
     "output_type": "execute_result"
    }
   ],
   "source": [
    "#making a dataframe using the classification report\n",
    "traindf10 = pd.DataFrame(classification_report(y_train, y_pred10, output_dict=True, \n",
    "                                   target_names=['died', 'survived']))\n",
    "traindf10"
   ]
  },
  {
   "cell_type": "code",
   "execution_count": 39,
   "id": "7c185e9f",
   "metadata": {},
   "outputs": [
    {
     "name": "stdout",
     "output_type": "stream",
     "text": [
      "Accuracy is 79.92%\n",
      "Precision is 75.71%\n",
      "Recall is 70.16%\n",
      "F1-score is 72.83%\n",
      "Support is 191.0\n",
      "True positive rate is 70.16%\n",
      "False positive rate is 22.5%\n",
      "True negative rate is 86.0%\n",
      "False negative rate is 18.6%\n"
     ]
    }
   ],
   "source": [
    "#assigning data results to variables\n",
    "\n",
    "accuracy10= traindf10.iloc[1:]['accuracy'][0]\n",
    "precision10= traindf10.iloc[0:2]['survived'][0]\n",
    "recall10= traindf10.iloc[1:2]['survived'][0]\n",
    "f110= traindf10.iloc[2:3]['survived'][0]\n",
    "support10= traindf10.iloc[3:4]['survived'][0]\n",
    "tn10, fp10, fn10, tp10= confusion_matrix(y_train, y_pred10).ravel()\n",
    "neg10= tn10+fp10\n",
    "pos10= fn10+tp10\n",
    "\n",
    "tpr10=(tp10/pos10).round(4)*100\n",
    "fpr10=(fp10/pos10).round(4)*100\n",
    "tnr10=(tn10/neg10).round(3)*100\n",
    "fnr10=(fn10/neg10).round(3)*100\n",
    "\n",
    "#printing results using vairables\n",
    "\n",
    "print(f'Accuracy is {accuracy10.round(4)*100}%')\n",
    "print(f'Precision is {precision10.round(4)*100}%')\n",
    "print(f'Recall is {recall10.round(4)*100}%')\n",
    "print(f'F1-score is {f110.round(4)*100}%')\n",
    "print(f'Support is {support10}')\n",
    "print(f'True positive rate is {(tp10/pos10).round(4)*100}%')\n",
    "print(f'False positive rate is {(fp10/pos10).round(3)*100}%')\n",
    "print(f'True negative rate is {(tn10/neg10).round(3)*100}%')\n",
    "print(f'False negative rate is {(fn10/neg10).round(3)*100}%')"
   ]
  },
  {
   "cell_type": "markdown",
   "id": "57040154",
   "metadata": {},
   "source": [
    "# Run through steps 1-3 setting k to 20\n",
    "\n"
   ]
  },
  {
   "cell_type": "code",
   "execution_count": 23,
   "id": "e94b1413",
   "metadata": {},
   "outputs": [],
   "source": [
    "#setting the new model to 20 nearest neighbors\n",
    "knn20 = KNeighborsClassifier(n_neighbors=20)"
   ]
  },
  {
   "cell_type": "code",
   "execution_count": 24,
   "id": "a7c418f5",
   "metadata": {},
   "outputs": [
    {
     "data": {
      "text/html": [
       "<style>#sk-container-id-3 {color: black;background-color: white;}#sk-container-id-3 pre{padding: 0;}#sk-container-id-3 div.sk-toggleable {background-color: white;}#sk-container-id-3 label.sk-toggleable__label {cursor: pointer;display: block;width: 100%;margin-bottom: 0;padding: 0.3em;box-sizing: border-box;text-align: center;}#sk-container-id-3 label.sk-toggleable__label-arrow:before {content: \"▸\";float: left;margin-right: 0.25em;color: #696969;}#sk-container-id-3 label.sk-toggleable__label-arrow:hover:before {color: black;}#sk-container-id-3 div.sk-estimator:hover label.sk-toggleable__label-arrow:before {color: black;}#sk-container-id-3 div.sk-toggleable__content {max-height: 0;max-width: 0;overflow: hidden;text-align: left;background-color: #f0f8ff;}#sk-container-id-3 div.sk-toggleable__content pre {margin: 0.2em;color: black;border-radius: 0.25em;background-color: #f0f8ff;}#sk-container-id-3 input.sk-toggleable__control:checked~div.sk-toggleable__content {max-height: 200px;max-width: 100%;overflow: auto;}#sk-container-id-3 input.sk-toggleable__control:checked~label.sk-toggleable__label-arrow:before {content: \"▾\";}#sk-container-id-3 div.sk-estimator input.sk-toggleable__control:checked~label.sk-toggleable__label {background-color: #d4ebff;}#sk-container-id-3 div.sk-label input.sk-toggleable__control:checked~label.sk-toggleable__label {background-color: #d4ebff;}#sk-container-id-3 input.sk-hidden--visually {border: 0;clip: rect(1px 1px 1px 1px);clip: rect(1px, 1px, 1px, 1px);height: 1px;margin: -1px;overflow: hidden;padding: 0;position: absolute;width: 1px;}#sk-container-id-3 div.sk-estimator {font-family: monospace;background-color: #f0f8ff;border: 1px dotted black;border-radius: 0.25em;box-sizing: border-box;margin-bottom: 0.5em;}#sk-container-id-3 div.sk-estimator:hover {background-color: #d4ebff;}#sk-container-id-3 div.sk-parallel-item::after {content: \"\";width: 100%;border-bottom: 1px solid gray;flex-grow: 1;}#sk-container-id-3 div.sk-label:hover label.sk-toggleable__label {background-color: #d4ebff;}#sk-container-id-3 div.sk-serial::before {content: \"\";position: absolute;border-left: 1px solid gray;box-sizing: border-box;top: 0;bottom: 0;left: 50%;z-index: 0;}#sk-container-id-3 div.sk-serial {display: flex;flex-direction: column;align-items: center;background-color: white;padding-right: 0.2em;padding-left: 0.2em;position: relative;}#sk-container-id-3 div.sk-item {position: relative;z-index: 1;}#sk-container-id-3 div.sk-parallel {display: flex;align-items: stretch;justify-content: center;background-color: white;position: relative;}#sk-container-id-3 div.sk-item::before, #sk-container-id-3 div.sk-parallel-item::before {content: \"\";position: absolute;border-left: 1px solid gray;box-sizing: border-box;top: 0;bottom: 0;left: 50%;z-index: -1;}#sk-container-id-3 div.sk-parallel-item {display: flex;flex-direction: column;z-index: 1;position: relative;background-color: white;}#sk-container-id-3 div.sk-parallel-item:first-child::after {align-self: flex-end;width: 50%;}#sk-container-id-3 div.sk-parallel-item:last-child::after {align-self: flex-start;width: 50%;}#sk-container-id-3 div.sk-parallel-item:only-child::after {width: 0;}#sk-container-id-3 div.sk-dashed-wrapped {border: 1px dashed gray;margin: 0 0.4em 0.5em 0.4em;box-sizing: border-box;padding-bottom: 0.4em;background-color: white;}#sk-container-id-3 div.sk-label label {font-family: monospace;font-weight: bold;display: inline-block;line-height: 1.2em;}#sk-container-id-3 div.sk-label-container {text-align: center;}#sk-container-id-3 div.sk-container {/* jupyter's `normalize.less` sets `[hidden] { display: none; }` but bootstrap.min.css set `[hidden] { display: none !important; }` so we also need the `!important` here to be able to override the default hidden behavior on the sphinx rendered scikit-learn.org. See: https://github.com/scikit-learn/scikit-learn/issues/21755 */display: inline-block !important;position: relative;}#sk-container-id-3 div.sk-text-repr-fallback {display: none;}</style><div id=\"sk-container-id-3\" class=\"sk-top-container\"><div class=\"sk-text-repr-fallback\"><pre>KNeighborsClassifier(n_neighbors=20)</pre><b>In a Jupyter environment, please rerun this cell to show the HTML representation or trust the notebook. <br />On GitHub, the HTML representation is unable to render, please try loading this page with nbviewer.org.</b></div><div class=\"sk-container\" hidden><div class=\"sk-item\"><div class=\"sk-estimator sk-toggleable\"><input class=\"sk-toggleable__control sk-hidden--visually\" id=\"sk-estimator-id-3\" type=\"checkbox\" checked><label for=\"sk-estimator-id-3\" class=\"sk-toggleable__label sk-toggleable__label-arrow\">KNeighborsClassifier</label><div class=\"sk-toggleable__content\"><pre>KNeighborsClassifier(n_neighbors=20)</pre></div></div></div></div></div>"
      ],
      "text/plain": [
       "KNeighborsClassifier(n_neighbors=20)"
      ]
     },
     "execution_count": 24,
     "metadata": {},
     "output_type": "execute_result"
    }
   ],
   "source": [
    "#fitting the new model\n",
    "knn20.fit(X_train,y_train)"
   ]
  },
  {
   "cell_type": "code",
   "execution_count": 25,
   "id": "5b0b5738",
   "metadata": {},
   "outputs": [
    {
     "name": "stderr",
     "output_type": "stream",
     "text": [
      "/opt/homebrew/anaconda3/lib/python3.9/site-packages/sklearn/neighbors/_classification.py:237: FutureWarning: Unlike other reduction functions (e.g. `skew`, `kurtosis`), the default behavior of `mode` typically preserves the axis it acts along. In SciPy 1.11.0, this behavior will change: the default value of `keepdims` will become False, the `axis` over which the statistic is taken will be eliminated, and the value None will no longer be accepted. Set `keepdims` to True or False to avoid this warning.\n",
      "  mode, _ = stats.mode(_y[neigh_ind, k], axis=1)\n"
     ]
    }
   ],
   "source": [
    "#making predictions using the new model\n",
    "y_pred20= knn20.predict(X_train)"
   ]
  },
  {
   "cell_type": "code",
   "execution_count": 26,
   "id": "2713fa1f",
   "metadata": {},
   "outputs": [
    {
     "name": "stderr",
     "output_type": "stream",
     "text": [
      "/opt/homebrew/anaconda3/lib/python3.9/site-packages/sklearn/neighbors/_classification.py:237: FutureWarning: Unlike other reduction functions (e.g. `skew`, `kurtosis`), the default behavior of `mode` typically preserves the axis it acts along. In SciPy 1.11.0, this behavior will change: the default value of `keepdims` will become False, the `axis` over which the statistic is taken will be eliminated, and the value None will no longer be accepted. Set `keepdims` to True or False to avoid this warning.\n",
      "  mode, _ = stats.mode(_y[neigh_ind, k], axis=1)\n"
     ]
    },
    {
     "data": {
      "text/plain": [
       "0.7449799196787149"
      ]
     },
     "execution_count": 26,
     "metadata": {},
     "output_type": "execute_result"
    }
   ],
   "source": [
    "#evaluating the model\n",
    "knn20.score(X_train, y_train)"
   ]
  },
  {
   "cell_type": "code",
   "execution_count": 27,
   "id": "18c21144",
   "metadata": {},
   "outputs": [
    {
     "data": {
      "text/html": [
       "<div>\n",
       "<style scoped>\n",
       "    .dataframe tbody tr th:only-of-type {\n",
       "        vertical-align: middle;\n",
       "    }\n",
       "\n",
       "    .dataframe tbody tr th {\n",
       "        vertical-align: top;\n",
       "    }\n",
       "\n",
       "    .dataframe thead th {\n",
       "        text-align: right;\n",
       "    }\n",
       "</style>\n",
       "<table border=\"1\" class=\"dataframe\">\n",
       "  <thead>\n",
       "    <tr style=\"text-align: right;\">\n",
       "      <th></th>\n",
       "      <th>pred died</th>\n",
       "      <th>pred survived</th>\n",
       "    </tr>\n",
       "  </thead>\n",
       "  <tbody>\n",
       "    <tr>\n",
       "      <th>actually died</th>\n",
       "      <td>262</td>\n",
       "      <td>45</td>\n",
       "    </tr>\n",
       "    <tr>\n",
       "      <th>actually survived</th>\n",
       "      <td>82</td>\n",
       "      <td>109</td>\n",
       "    </tr>\n",
       "  </tbody>\n",
       "</table>\n",
       "</div>"
      ],
      "text/plain": [
       "                   pred died  pred survived\n",
       "actually died            262             45\n",
       "actually survived         82            109"
      ]
     },
     "execution_count": 27,
     "metadata": {},
     "output_type": "execute_result"
    }
   ],
   "source": [
    "#making a confusion matrix with the new model\n",
    "cmt20=pd.DataFrame(data=confusion_matrix(y_train, y_pred20), \n",
    "             columns= ['pred died', 'pred survived'], \n",
    "             index= ['actually died', 'actually survived'])\n",
    "cmt20"
   ]
  },
  {
   "cell_type": "code",
   "execution_count": 28,
   "id": "b9b2ad49",
   "metadata": {},
   "outputs": [
    {
     "data": {
      "text/html": [
       "<div>\n",
       "<style scoped>\n",
       "    .dataframe tbody tr th:only-of-type {\n",
       "        vertical-align: middle;\n",
       "    }\n",
       "\n",
       "    .dataframe tbody tr th {\n",
       "        vertical-align: top;\n",
       "    }\n",
       "\n",
       "    .dataframe thead th {\n",
       "        text-align: right;\n",
       "    }\n",
       "</style>\n",
       "<table border=\"1\" class=\"dataframe\">\n",
       "  <thead>\n",
       "    <tr style=\"text-align: right;\">\n",
       "      <th></th>\n",
       "      <th>died</th>\n",
       "      <th>survived</th>\n",
       "      <th>accuracy</th>\n",
       "      <th>macro avg</th>\n",
       "      <th>weighted avg</th>\n",
       "    </tr>\n",
       "  </thead>\n",
       "  <tbody>\n",
       "    <tr>\n",
       "      <th>precision</th>\n",
       "      <td>0.761628</td>\n",
       "      <td>0.707792</td>\n",
       "      <td>0.74498</td>\n",
       "      <td>0.73471</td>\n",
       "      <td>0.740980</td>\n",
       "    </tr>\n",
       "    <tr>\n",
       "      <th>recall</th>\n",
       "      <td>0.853420</td>\n",
       "      <td>0.570681</td>\n",
       "      <td>0.74498</td>\n",
       "      <td>0.71205</td>\n",
       "      <td>0.744980</td>\n",
       "    </tr>\n",
       "    <tr>\n",
       "      <th>f1-score</th>\n",
       "      <td>0.804916</td>\n",
       "      <td>0.631884</td>\n",
       "      <td>0.74498</td>\n",
       "      <td>0.71840</td>\n",
       "      <td>0.738552</td>\n",
       "    </tr>\n",
       "    <tr>\n",
       "      <th>support</th>\n",
       "      <td>307.000000</td>\n",
       "      <td>191.000000</td>\n",
       "      <td>0.74498</td>\n",
       "      <td>498.00000</td>\n",
       "      <td>498.000000</td>\n",
       "    </tr>\n",
       "  </tbody>\n",
       "</table>\n",
       "</div>"
      ],
      "text/plain": [
       "                 died    survived  accuracy  macro avg  weighted avg\n",
       "precision    0.761628    0.707792   0.74498    0.73471      0.740980\n",
       "recall       0.853420    0.570681   0.74498    0.71205      0.744980\n",
       "f1-score     0.804916    0.631884   0.74498    0.71840      0.738552\n",
       "support    307.000000  191.000000   0.74498  498.00000    498.000000"
      ]
     },
     "execution_count": 28,
     "metadata": {},
     "output_type": "execute_result"
    }
   ],
   "source": [
    "#making a dataframe using the classification report\n",
    "traindf20 = pd.DataFrame(classification_report(y_train, y_pred20, output_dict=True, \n",
    "                                   target_names=['died', 'survived']))\n",
    "traindf20"
   ]
  },
  {
   "cell_type": "code",
   "execution_count": 40,
   "id": "5fe9cc70",
   "metadata": {},
   "outputs": [
    {
     "name": "stdout",
     "output_type": "stream",
     "text": [
      "Accuracy is 74.5%\n",
      "Precision is 70.78%\n",
      "Recall is 57.07%\n",
      "F1-score is 63.2%\n",
      "Support is 191.0\n",
      "True positive rate is 57.07%\n",
      "False positive rate is 23.56%\n",
      "True negative rate is 85.3%\n",
      "False negative rate is 30.0%\n"
     ]
    }
   ],
   "source": [
    "#assigning data results to variables\n",
    "\n",
    "accuracy20= traindf20.iloc[1:]['accuracy'][0]\n",
    "precision20= traindf20.iloc[0:2]['survived'][0]\n",
    "recall20= traindf20.iloc[1:2]['survived'][0]\n",
    "f120= traindf20.iloc[2:3]['survived'][0]\n",
    "support20= traindf20.iloc[3:4]['survived'][0]\n",
    "tn20, fp20, fn20, tp20= confusion_matrix(y_train, y_pred20).ravel()\n",
    "neg20= tn20+fp20\n",
    "pos20= fn20+tp20\n",
    "\n",
    "\n",
    "tpr20=(tp20/pos20).round(4)*100\n",
    "fpr20=(fp20/pos20).round(4)*100\n",
    "tnr20=(tn20/neg20).round(3)*100\n",
    "fnr20=(fn20/neg20).round(3)*100\n",
    "\n",
    "#printing results using vairables\n",
    "\n",
    "print(f'Accuracy is {accuracy20.round(4)*100}%')\n",
    "print(f'Precision is {precision20.round(4)*100}%')\n",
    "print(f'Recall is {recall20.round(4)*100}%')\n",
    "print(f'F1-score is {f120.round(3)*100}%')\n",
    "print(f'Support is {support20}')\n",
    "print(f'True positive rate is {(tp20/pos20).round(4)*100}%')\n",
    "print(f'False positive rate is {(fp20/pos20).round(4)*100}%')\n",
    "print(f'True negative rate is {(tn20/neg20).round(3)*100}%')\n",
    "print(f'False negative rate is {(fn20/neg20).round(1)*100}%')"
   ]
  },
  {
   "cell_type": "markdown",
   "id": "24c528d6",
   "metadata": {},
   "source": [
    "# What are the differences in the evaluation metrics? Which performs better on your in-sample data? Why?\n",
    "\n"
   ]
  },
  {
   "cell_type": "code",
   "execution_count": 43,
   "id": "62e56044",
   "metadata": {},
   "outputs": [
    {
     "data": {
      "text/html": [
       "<div>\n",
       "<style scoped>\n",
       "    .dataframe tbody tr th:only-of-type {\n",
       "        vertical-align: middle;\n",
       "    }\n",
       "\n",
       "    .dataframe tbody tr th {\n",
       "        vertical-align: top;\n",
       "    }\n",
       "\n",
       "    .dataframe thead th {\n",
       "        text-align: right;\n",
       "    }\n",
       "</style>\n",
       "<table border=\"1\" class=\"dataframe\">\n",
       "  <thead>\n",
       "    <tr style=\"text-align: right;\">\n",
       "      <th></th>\n",
       "      <th>accuracy</th>\n",
       "      <th>precision</th>\n",
       "      <th>recall</th>\n",
       "      <th>f1</th>\n",
       "      <th>support</th>\n",
       "      <th>true_positive_rate</th>\n",
       "      <th>false_positive_rate</th>\n",
       "      <th>true_negative_rate</th>\n",
       "      <th>false_negaive_rate</th>\n",
       "    </tr>\n",
       "  </thead>\n",
       "  <tbody>\n",
       "    <tr>\n",
       "      <th>3_nearest_neighbors</th>\n",
       "      <td>0.851406</td>\n",
       "      <td>0.806283</td>\n",
       "      <td>0.806283</td>\n",
       "      <td>0.806283</td>\n",
       "      <td>191.0</td>\n",
       "      <td>80.63</td>\n",
       "      <td>19.37</td>\n",
       "      <td>87.9</td>\n",
       "      <td>12.1</td>\n",
       "    </tr>\n",
       "    <tr>\n",
       "      <th>10_nearest_neighbors</th>\n",
       "      <td>0.799197</td>\n",
       "      <td>0.757062</td>\n",
       "      <td>0.701571</td>\n",
       "      <td>0.728261</td>\n",
       "      <td>191.0</td>\n",
       "      <td>70.16</td>\n",
       "      <td>22.51</td>\n",
       "      <td>86.0</td>\n",
       "      <td>18.6</td>\n",
       "    </tr>\n",
       "    <tr>\n",
       "      <th>20_nearest_neighbors</th>\n",
       "      <td>0.744980</td>\n",
       "      <td>0.707792</td>\n",
       "      <td>0.570681</td>\n",
       "      <td>0.631884</td>\n",
       "      <td>191.0</td>\n",
       "      <td>57.07</td>\n",
       "      <td>23.56</td>\n",
       "      <td>85.3</td>\n",
       "      <td>26.7</td>\n",
       "    </tr>\n",
       "  </tbody>\n",
       "</table>\n",
       "</div>"
      ],
      "text/plain": [
       "                      accuracy  precision    recall        f1  support  \\\n",
       "3_nearest_neighbors   0.851406   0.806283  0.806283  0.806283    191.0   \n",
       "10_nearest_neighbors  0.799197   0.757062  0.701571  0.728261    191.0   \n",
       "20_nearest_neighbors  0.744980   0.707792  0.570681  0.631884    191.0   \n",
       "\n",
       "                      true_positive_rate  false_positive_rate  \\\n",
       "3_nearest_neighbors                80.63                19.37   \n",
       "10_nearest_neighbors               70.16                22.51   \n",
       "20_nearest_neighbors               57.07                23.56   \n",
       "\n",
       "                      true_negative_rate  false_negaive_rate  \n",
       "3_nearest_neighbors                 87.9                12.1  \n",
       "10_nearest_neighbors                86.0                18.6  \n",
       "20_nearest_neighbors                85.3                26.7  "
      ]
     },
     "execution_count": 43,
     "metadata": {},
     "output_type": "execute_result"
    }
   ],
   "source": [
    "pd.DataFrame({'accuracy': [accuracy, accuracy10, accuracy20], \n",
    "              'precision': [precision, precision10, precision20], \n",
    "             'recall': [recall, recall10, recall20], \n",
    "             'f1': [f1, f110, f120], \n",
    "             'support': [support, support10, support20], \n",
    "             'true_positive_rate': [tpr, tpr10, tpr20], \n",
    "             'false_positive_rate': [fpr, fpr10, fpr20], \n",
    "             'true_negative_rate': [tnr, tnr10, tnr20],\n",
    "             'false_negaive_rate': [fnr, fnr10, fnr20]}, \n",
    "            index = ['3_nearest_neighbors', '10_nearest_neighbors', '20_nearest_neighbors'])"
   ]
  },
  {
   "cell_type": "code",
   "execution_count": 44,
   "id": "090dcd73",
   "metadata": {},
   "outputs": [],
   "source": [
    "#everything decreases as we increase the number of nearest neighbors. \n",
    "#the knn=3 is the best model for our in-samole data"
   ]
  },
  {
   "cell_type": "markdown",
   "id": "0ab02835",
   "metadata": {},
   "source": [
    "# Which model performs best on our out-of-sample data from validate?\n",
    "\n"
   ]
  },
  {
   "cell_type": "code",
   "execution_count": 48,
   "id": "420fd0e5",
   "metadata": {},
   "outputs": [
    {
     "name": "stderr",
     "output_type": "stream",
     "text": [
      "/opt/homebrew/anaconda3/lib/python3.9/site-packages/sklearn/neighbors/_classification.py:237: FutureWarning: Unlike other reduction functions (e.g. `skew`, `kurtosis`), the default behavior of `mode` typically preserves the axis it acts along. In SciPy 1.11.0, this behavior will change: the default value of `keepdims` will become False, the `axis` over which the statistic is taken will be eliminated, and the value None will no longer be accepted. Set `keepdims` to True or False to avoid this warning.\n",
      "  mode, _ = stats.mode(_y[neigh_ind, k], axis=1)\n",
      "/opt/homebrew/anaconda3/lib/python3.9/site-packages/sklearn/neighbors/_classification.py:237: FutureWarning: Unlike other reduction functions (e.g. `skew`, `kurtosis`), the default behavior of `mode` typically preserves the axis it acts along. In SciPy 1.11.0, this behavior will change: the default value of `keepdims` will become False, the `axis` over which the statistic is taken will be eliminated, and the value None will no longer be accepted. Set `keepdims` to True or False to avoid this warning.\n",
      "  mode, _ = stats.mode(_y[neigh_ind, k], axis=1)\n",
      "/opt/homebrew/anaconda3/lib/python3.9/site-packages/sklearn/neighbors/_classification.py:237: FutureWarning: Unlike other reduction functions (e.g. `skew`, `kurtosis`), the default behavior of `mode` typically preserves the axis it acts along. In SciPy 1.11.0, this behavior will change: the default value of `keepdims` will become False, the `axis` over which the statistic is taken will be eliminated, and the value None will no longer be accepted. Set `keepdims` to True or False to avoid this warning.\n",
      "  mode, _ = stats.mode(_y[neigh_ind, k], axis=1)\n"
     ]
    }
   ],
   "source": [
    "y_val_pred= knn.predict(X_val)\n",
    "y_val_pred10= knn10.predict(X_val)\n",
    "y_val_pred20= knn20.predict(X_val)\n"
   ]
  },
  {
   "cell_type": "markdown",
   "id": "5c0aae3a",
   "metadata": {},
   "source": [
    "# making a confusion matrix and classification report for each model using the validate sample"
   ]
  },
  {
   "cell_type": "code",
   "execution_count": 49,
   "id": "09487a05",
   "metadata": {},
   "outputs": [
    {
     "data": {
      "text/html": [
       "<div>\n",
       "<style scoped>\n",
       "    .dataframe tbody tr th:only-of-type {\n",
       "        vertical-align: middle;\n",
       "    }\n",
       "\n",
       "    .dataframe tbody tr th {\n",
       "        vertical-align: top;\n",
       "    }\n",
       "\n",
       "    .dataframe thead th {\n",
       "        text-align: right;\n",
       "    }\n",
       "</style>\n",
       "<table border=\"1\" class=\"dataframe\">\n",
       "  <thead>\n",
       "    <tr style=\"text-align: right;\">\n",
       "      <th></th>\n",
       "      <th>pred died</th>\n",
       "      <th>pred survived</th>\n",
       "    </tr>\n",
       "  </thead>\n",
       "  <tbody>\n",
       "    <tr>\n",
       "      <th>actually died</th>\n",
       "      <td>108</td>\n",
       "      <td>24</td>\n",
       "    </tr>\n",
       "    <tr>\n",
       "      <th>actually survived</th>\n",
       "      <td>30</td>\n",
       "      <td>52</td>\n",
       "    </tr>\n",
       "  </tbody>\n",
       "</table>\n",
       "</div>"
      ],
      "text/plain": [
       "                   pred died  pred survived\n",
       "actually died            108             24\n",
       "actually survived         30             52"
      ]
     },
     "execution_count": 49,
     "metadata": {},
     "output_type": "execute_result"
    }
   ],
   "source": [
    "vcmt=pd.DataFrame(data=confusion_matrix(y_val, y_val_pred), \n",
    "             columns= ['pred died', 'pred survived'], \n",
    "             index= ['actually died', 'actually survived'])\n",
    "vcmt"
   ]
  },
  {
   "cell_type": "code",
   "execution_count": 56,
   "id": "bc4ef3a9",
   "metadata": {},
   "outputs": [
    {
     "data": {
      "text/html": [
       "<div>\n",
       "<style scoped>\n",
       "    .dataframe tbody tr th:only-of-type {\n",
       "        vertical-align: middle;\n",
       "    }\n",
       "\n",
       "    .dataframe tbody tr th {\n",
       "        vertical-align: top;\n",
       "    }\n",
       "\n",
       "    .dataframe thead th {\n",
       "        text-align: right;\n",
       "    }\n",
       "</style>\n",
       "<table border=\"1\" class=\"dataframe\">\n",
       "  <thead>\n",
       "    <tr style=\"text-align: right;\">\n",
       "      <th></th>\n",
       "      <th>died</th>\n",
       "      <th>survived</th>\n",
       "      <th>accuracy</th>\n",
       "      <th>macro avg</th>\n",
       "      <th>weighted avg</th>\n",
       "    </tr>\n",
       "  </thead>\n",
       "  <tbody>\n",
       "    <tr>\n",
       "      <th>precision</th>\n",
       "      <td>0.782609</td>\n",
       "      <td>0.684211</td>\n",
       "      <td>0.747664</td>\n",
       "      <td>0.733410</td>\n",
       "      <td>0.744905</td>\n",
       "    </tr>\n",
       "    <tr>\n",
       "      <th>recall</th>\n",
       "      <td>0.818182</td>\n",
       "      <td>0.634146</td>\n",
       "      <td>0.747664</td>\n",
       "      <td>0.726164</td>\n",
       "      <td>0.747664</td>\n",
       "    </tr>\n",
       "    <tr>\n",
       "      <th>f1-score</th>\n",
       "      <td>0.800000</td>\n",
       "      <td>0.658228</td>\n",
       "      <td>0.747664</td>\n",
       "      <td>0.729114</td>\n",
       "      <td>0.745676</td>\n",
       "    </tr>\n",
       "    <tr>\n",
       "      <th>support</th>\n",
       "      <td>132.000000</td>\n",
       "      <td>82.000000</td>\n",
       "      <td>0.747664</td>\n",
       "      <td>214.000000</td>\n",
       "      <td>214.000000</td>\n",
       "    </tr>\n",
       "  </tbody>\n",
       "</table>\n",
       "</div>"
      ],
      "text/plain": [
       "                 died   survived  accuracy   macro avg  weighted avg\n",
       "precision    0.782609   0.684211  0.747664    0.733410      0.744905\n",
       "recall       0.818182   0.634146  0.747664    0.726164      0.747664\n",
       "f1-score     0.800000   0.658228  0.747664    0.729114      0.745676\n",
       "support    132.000000  82.000000  0.747664  214.000000    214.000000"
      ]
     },
     "execution_count": 56,
     "metadata": {},
     "output_type": "execute_result"
    }
   ],
   "source": [
    "vtraindf = pd.DataFrame(classification_report(y_val, y_val_pred, output_dict=True, \n",
    "                                   target_names=['died', 'survived']))\n",
    "vtraindf"
   ]
  },
  {
   "cell_type": "code",
   "execution_count": 51,
   "id": "2bde0695",
   "metadata": {},
   "outputs": [
    {
     "data": {
      "text/html": [
       "<div>\n",
       "<style scoped>\n",
       "    .dataframe tbody tr th:only-of-type {\n",
       "        vertical-align: middle;\n",
       "    }\n",
       "\n",
       "    .dataframe tbody tr th {\n",
       "        vertical-align: top;\n",
       "    }\n",
       "\n",
       "    .dataframe thead th {\n",
       "        text-align: right;\n",
       "    }\n",
       "</style>\n",
       "<table border=\"1\" class=\"dataframe\">\n",
       "  <thead>\n",
       "    <tr style=\"text-align: right;\">\n",
       "      <th></th>\n",
       "      <th>pred died</th>\n",
       "      <th>pred survived</th>\n",
       "    </tr>\n",
       "  </thead>\n",
       "  <tbody>\n",
       "    <tr>\n",
       "      <th>actually died</th>\n",
       "      <td>112</td>\n",
       "      <td>20</td>\n",
       "    </tr>\n",
       "    <tr>\n",
       "      <th>actually survived</th>\n",
       "      <td>36</td>\n",
       "      <td>46</td>\n",
       "    </tr>\n",
       "  </tbody>\n",
       "</table>\n",
       "</div>"
      ],
      "text/plain": [
       "                   pred died  pred survived\n",
       "actually died            112             20\n",
       "actually survived         36             46"
      ]
     },
     "execution_count": 51,
     "metadata": {},
     "output_type": "execute_result"
    }
   ],
   "source": [
    "vcmt10=pd.DataFrame(data=confusion_matrix(y_val, y_val_pred10), \n",
    "             columns= ['pred died', 'pred survived'], \n",
    "             index= ['actually died', 'actually survived'])\n",
    "vcmt10"
   ]
  },
  {
   "cell_type": "code",
   "execution_count": 52,
   "id": "544481b3",
   "metadata": {},
   "outputs": [
    {
     "data": {
      "text/html": [
       "<div>\n",
       "<style scoped>\n",
       "    .dataframe tbody tr th:only-of-type {\n",
       "        vertical-align: middle;\n",
       "    }\n",
       "\n",
       "    .dataframe tbody tr th {\n",
       "        vertical-align: top;\n",
       "    }\n",
       "\n",
       "    .dataframe thead th {\n",
       "        text-align: right;\n",
       "    }\n",
       "</style>\n",
       "<table border=\"1\" class=\"dataframe\">\n",
       "  <thead>\n",
       "    <tr style=\"text-align: right;\">\n",
       "      <th></th>\n",
       "      <th>died</th>\n",
       "      <th>survived</th>\n",
       "      <th>accuracy</th>\n",
       "      <th>macro avg</th>\n",
       "      <th>weighted avg</th>\n",
       "    </tr>\n",
       "  </thead>\n",
       "  <tbody>\n",
       "    <tr>\n",
       "      <th>precision</th>\n",
       "      <td>0.756757</td>\n",
       "      <td>0.696970</td>\n",
       "      <td>0.738318</td>\n",
       "      <td>0.726863</td>\n",
       "      <td>0.733848</td>\n",
       "    </tr>\n",
       "    <tr>\n",
       "      <th>recall</th>\n",
       "      <td>0.848485</td>\n",
       "      <td>0.560976</td>\n",
       "      <td>0.738318</td>\n",
       "      <td>0.704730</td>\n",
       "      <td>0.738318</td>\n",
       "    </tr>\n",
       "    <tr>\n",
       "      <th>f1-score</th>\n",
       "      <td>0.800000</td>\n",
       "      <td>0.621622</td>\n",
       "      <td>0.738318</td>\n",
       "      <td>0.710811</td>\n",
       "      <td>0.731649</td>\n",
       "    </tr>\n",
       "    <tr>\n",
       "      <th>support</th>\n",
       "      <td>132.000000</td>\n",
       "      <td>82.000000</td>\n",
       "      <td>0.738318</td>\n",
       "      <td>214.000000</td>\n",
       "      <td>214.000000</td>\n",
       "    </tr>\n",
       "  </tbody>\n",
       "</table>\n",
       "</div>"
      ],
      "text/plain": [
       "                 died   survived  accuracy   macro avg  weighted avg\n",
       "precision    0.756757   0.696970  0.738318    0.726863      0.733848\n",
       "recall       0.848485   0.560976  0.738318    0.704730      0.738318\n",
       "f1-score     0.800000   0.621622  0.738318    0.710811      0.731649\n",
       "support    132.000000  82.000000  0.738318  214.000000    214.000000"
      ]
     },
     "execution_count": 52,
     "metadata": {},
     "output_type": "execute_result"
    }
   ],
   "source": [
    "vtraindf10 = pd.DataFrame(classification_report(y_val, y_val_pred10, output_dict=True, \n",
    "                                   target_names=['died', 'survived']))\n",
    "vtraindf10"
   ]
  },
  {
   "cell_type": "code",
   "execution_count": 53,
   "id": "513ce113",
   "metadata": {},
   "outputs": [
    {
     "data": {
      "text/html": [
       "<div>\n",
       "<style scoped>\n",
       "    .dataframe tbody tr th:only-of-type {\n",
       "        vertical-align: middle;\n",
       "    }\n",
       "\n",
       "    .dataframe tbody tr th {\n",
       "        vertical-align: top;\n",
       "    }\n",
       "\n",
       "    .dataframe thead th {\n",
       "        text-align: right;\n",
       "    }\n",
       "</style>\n",
       "<table border=\"1\" class=\"dataframe\">\n",
       "  <thead>\n",
       "    <tr style=\"text-align: right;\">\n",
       "      <th></th>\n",
       "      <th>pred died</th>\n",
       "      <th>pred survived</th>\n",
       "    </tr>\n",
       "  </thead>\n",
       "  <tbody>\n",
       "    <tr>\n",
       "      <th>actually died</th>\n",
       "      <td>113</td>\n",
       "      <td>19</td>\n",
       "    </tr>\n",
       "    <tr>\n",
       "      <th>actually survived</th>\n",
       "      <td>42</td>\n",
       "      <td>40</td>\n",
       "    </tr>\n",
       "  </tbody>\n",
       "</table>\n",
       "</div>"
      ],
      "text/plain": [
       "                   pred died  pred survived\n",
       "actually died            113             19\n",
       "actually survived         42             40"
      ]
     },
     "execution_count": 53,
     "metadata": {},
     "output_type": "execute_result"
    }
   ],
   "source": [
    "vcmt20=pd.DataFrame(data=confusion_matrix(y_val, y_val_pred20), \n",
    "             columns= ['pred died', 'pred survived'], \n",
    "             index= ['actually died', 'actually survived'])\n",
    "vcmt20"
   ]
  },
  {
   "cell_type": "code",
   "execution_count": 54,
   "id": "6235c4a4",
   "metadata": {},
   "outputs": [
    {
     "data": {
      "text/html": [
       "<div>\n",
       "<style scoped>\n",
       "    .dataframe tbody tr th:only-of-type {\n",
       "        vertical-align: middle;\n",
       "    }\n",
       "\n",
       "    .dataframe tbody tr th {\n",
       "        vertical-align: top;\n",
       "    }\n",
       "\n",
       "    .dataframe thead th {\n",
       "        text-align: right;\n",
       "    }\n",
       "</style>\n",
       "<table border=\"1\" class=\"dataframe\">\n",
       "  <thead>\n",
       "    <tr style=\"text-align: right;\">\n",
       "      <th></th>\n",
       "      <th>died</th>\n",
       "      <th>survived</th>\n",
       "      <th>accuracy</th>\n",
       "      <th>macro avg</th>\n",
       "      <th>weighted avg</th>\n",
       "    </tr>\n",
       "  </thead>\n",
       "  <tbody>\n",
       "    <tr>\n",
       "      <th>precision</th>\n",
       "      <td>0.729032</td>\n",
       "      <td>0.677966</td>\n",
       "      <td>0.714953</td>\n",
       "      <td>0.703499</td>\n",
       "      <td>0.709465</td>\n",
       "    </tr>\n",
       "    <tr>\n",
       "      <th>recall</th>\n",
       "      <td>0.856061</td>\n",
       "      <td>0.487805</td>\n",
       "      <td>0.714953</td>\n",
       "      <td>0.671933</td>\n",
       "      <td>0.714953</td>\n",
       "    </tr>\n",
       "    <tr>\n",
       "      <th>f1-score</th>\n",
       "      <td>0.787456</td>\n",
       "      <td>0.567376</td>\n",
       "      <td>0.714953</td>\n",
       "      <td>0.677416</td>\n",
       "      <td>0.703127</td>\n",
       "    </tr>\n",
       "    <tr>\n",
       "      <th>support</th>\n",
       "      <td>132.000000</td>\n",
       "      <td>82.000000</td>\n",
       "      <td>0.714953</td>\n",
       "      <td>214.000000</td>\n",
       "      <td>214.000000</td>\n",
       "    </tr>\n",
       "  </tbody>\n",
       "</table>\n",
       "</div>"
      ],
      "text/plain": [
       "                 died   survived  accuracy   macro avg  weighted avg\n",
       "precision    0.729032   0.677966  0.714953    0.703499      0.709465\n",
       "recall       0.856061   0.487805  0.714953    0.671933      0.714953\n",
       "f1-score     0.787456   0.567376  0.714953    0.677416      0.703127\n",
       "support    132.000000  82.000000  0.714953  214.000000    214.000000"
      ]
     },
     "execution_count": 54,
     "metadata": {},
     "output_type": "execute_result"
    }
   ],
   "source": [
    "vtraindf20 = pd.DataFrame(classification_report(y_val, y_val_pred20, output_dict=True, \n",
    "                                   target_names=['died', 'survived']))\n",
    "vtraindf20"
   ]
  },
  {
   "cell_type": "markdown",
   "id": "596c87ff",
   "metadata": {},
   "source": [
    "# setting variables for each models validate results"
   ]
  },
  {
   "cell_type": "code",
   "execution_count": 57,
   "id": "c0485c77",
   "metadata": {},
   "outputs": [],
   "source": [
    "#knn=3\n",
    "vaccuracy= vtraindf.iloc[1:]['accuracy'][0]\n",
    "vprecision= vtraindf.iloc[0:2]['survived'][0]\n",
    "vrecall= vtraindf.iloc[1:2]['survived'][0]\n",
    "vf1= vtraindf.iloc[2:3]['survived'][0]\n",
    "vsupport= vtraindf.iloc[3:4]['survived'][0]\n",
    "vtn, vfp, vfn, vtp= confusion_matrix(y_val, y_val_pred).ravel()\n",
    "vneg= vtn+vfp\n",
    "vpos= vfn+vtp\n",
    "\n",
    "vtpr=(vtp/vpos).round(4)*100\n",
    "vfpr=(vfp/vpos).round(4)*100\n",
    "vtnr=(vtn/vneg).round(3)*100\n",
    "vfnr=(vfn/vneg).round(3)*100\n",
    "\n",
    "\n",
    "#knn=10\n",
    "vaccuracy10= vtraindf10.iloc[1:]['accuracy'][0]\n",
    "vprecision10= vtraindf10.iloc[0:2]['survived'][0]\n",
    "vrecall10= vtraindf10.iloc[1:2]['survived'][0]\n",
    "vf110= vtraindf10.iloc[2:3]['survived'][0]\n",
    "vsupport10= vtraindf10.iloc[3:4]['survived'][0]\n",
    "vtn10, vfp10, vfn10, vtp10= confusion_matrix(y_val, y_val_pred10).ravel()\n",
    "vneg10= tn10+fp10\n",
    "vpos10= fn10+tp10\n",
    "\n",
    "vtpr10=(vtp10/vpos10).round(4)*100\n",
    "vfpr10=(vfp10/vpos10).round(4)*100\n",
    "vtnr10=(vtn10/vneg10).round(3)*100\n",
    "vfnr10=(vfn10/vneg10).round(3)*100\n",
    "\n",
    "\n",
    "#knn=20\n",
    "vaccuracy20= vtraindf20.iloc[1:]['accuracy'][0]\n",
    "vprecision20= vtraindf20.iloc[0:2]['survived'][0]\n",
    "vrecall20= vtraindf20.iloc[1:2]['survived'][0]\n",
    "vf120= vtraindf20.iloc[2:3]['survived'][0]\n",
    "vsupport20= vtraindf20.iloc[3:4]['survived'][0]\n",
    "vtn20, vfp20, vfn20, vtp20= confusion_matrix(y_val, y_val_pred20).ravel()\n",
    "vneg20= vtn20+vfp20\n",
    "vpos20= vfn20+vtp20\n",
    "\n",
    "\n",
    "vtpr20=(vtp20/vpos20).round(4)*100\n",
    "vfpr20=(vfp20/vpos20).round(4)*100\n",
    "vtnr20=(vtn20/vneg20).round(3)*100\n",
    "vfnr20=(vfn20/vneg20).round(3)*100\n"
   ]
  },
  {
   "cell_type": "markdown",
   "id": "fe4fb13e",
   "metadata": {},
   "source": [
    "# Dataframe of results"
   ]
  },
  {
   "cell_type": "code",
   "execution_count": 59,
   "id": "e556c9a1",
   "metadata": {},
   "outputs": [
    {
     "data": {
      "text/html": [
       "<div>\n",
       "<style scoped>\n",
       "    .dataframe tbody tr th:only-of-type {\n",
       "        vertical-align: middle;\n",
       "    }\n",
       "\n",
       "    .dataframe tbody tr th {\n",
       "        vertical-align: top;\n",
       "    }\n",
       "\n",
       "    .dataframe thead th {\n",
       "        text-align: right;\n",
       "    }\n",
       "</style>\n",
       "<table border=\"1\" class=\"dataframe\">\n",
       "  <thead>\n",
       "    <tr style=\"text-align: right;\">\n",
       "      <th></th>\n",
       "      <th>val_accuracy</th>\n",
       "      <th>val_precision</th>\n",
       "      <th>val_recall</th>\n",
       "      <th>val_f1</th>\n",
       "      <th>val_support</th>\n",
       "      <th>val_true_positive_rate</th>\n",
       "      <th>val_false_positive_rate</th>\n",
       "      <th>val_true_negative_rate</th>\n",
       "      <th>val_false_negaive_rate</th>\n",
       "    </tr>\n",
       "  </thead>\n",
       "  <tbody>\n",
       "    <tr>\n",
       "      <th>3_nearest_neighbors</th>\n",
       "      <td>0.747664</td>\n",
       "      <td>0.684211</td>\n",
       "      <td>0.634146</td>\n",
       "      <td>0.658228</td>\n",
       "      <td>82.0</td>\n",
       "      <td>63.41</td>\n",
       "      <td>29.27</td>\n",
       "      <td>81.8</td>\n",
       "      <td>22.7</td>\n",
       "    </tr>\n",
       "    <tr>\n",
       "      <th>10_nearest_neighbors</th>\n",
       "      <td>0.738318</td>\n",
       "      <td>0.696970</td>\n",
       "      <td>0.560976</td>\n",
       "      <td>0.621622</td>\n",
       "      <td>82.0</td>\n",
       "      <td>24.08</td>\n",
       "      <td>10.47</td>\n",
       "      <td>36.5</td>\n",
       "      <td>11.7</td>\n",
       "    </tr>\n",
       "    <tr>\n",
       "      <th>20_nearest_neighbors</th>\n",
       "      <td>0.714953</td>\n",
       "      <td>0.677966</td>\n",
       "      <td>0.487805</td>\n",
       "      <td>0.567376</td>\n",
       "      <td>82.0</td>\n",
       "      <td>48.78</td>\n",
       "      <td>23.17</td>\n",
       "      <td>85.6</td>\n",
       "      <td>31.8</td>\n",
       "    </tr>\n",
       "  </tbody>\n",
       "</table>\n",
       "</div>"
      ],
      "text/plain": [
       "                      val_accuracy  val_precision  val_recall    val_f1  \\\n",
       "3_nearest_neighbors       0.747664       0.684211    0.634146  0.658228   \n",
       "10_nearest_neighbors      0.738318       0.696970    0.560976  0.621622   \n",
       "20_nearest_neighbors      0.714953       0.677966    0.487805  0.567376   \n",
       "\n",
       "                      val_support  val_true_positive_rate  \\\n",
       "3_nearest_neighbors          82.0                   63.41   \n",
       "10_nearest_neighbors         82.0                   24.08   \n",
       "20_nearest_neighbors         82.0                   48.78   \n",
       "\n",
       "                      val_false_positive_rate  val_true_negative_rate  \\\n",
       "3_nearest_neighbors                     29.27                    81.8   \n",
       "10_nearest_neighbors                    10.47                    36.5   \n",
       "20_nearest_neighbors                    23.17                    85.6   \n",
       "\n",
       "                      val_false_negaive_rate  \n",
       "3_nearest_neighbors                     22.7  \n",
       "10_nearest_neighbors                    11.7  \n",
       "20_nearest_neighbors                    31.8  "
      ]
     },
     "execution_count": 59,
     "metadata": {},
     "output_type": "execute_result"
    }
   ],
   "source": [
    "pd.DataFrame({'val_accuracy': [vaccuracy, vaccuracy10, vaccuracy20], \n",
    "              'val_precision': [vprecision, vprecision10, vprecision20], \n",
    "             'val_recall': [vrecall, vrecall10, vrecall20], \n",
    "             'val_f1': [vf1, vf110, vf120], \n",
    "             'val_support': [vsupport, vsupport10, vsupport20], \n",
    "             'val_true_positive_rate': [vtpr, vtpr10, vtpr20], \n",
    "             'val_false_positive_rate': [vfpr, vfpr10, vfpr20], \n",
    "             'val_true_negative_rate': [vtnr, vtnr10, vtnr20],\n",
    "             'val_false_negaive_rate': [vfnr, vfnr10, vfnr20]}, \n",
    "            index = ['3_nearest_neighbors', '10_nearest_neighbors', '20_nearest_neighbors'])"
   ]
  },
  {
   "cell_type": "code",
   "execution_count": 60,
   "id": "738502c8",
   "metadata": {},
   "outputs": [],
   "source": [
    "#the knn=3 is still our best model for the validate sample"
   ]
  },
  {
   "cell_type": "code",
   "execution_count": null,
   "id": "696ae20b",
   "metadata": {},
   "outputs": [],
   "source": []
  }
 ],
 "metadata": {
  "kernelspec": {
   "display_name": "Python 3 (ipykernel)",
   "language": "python",
   "name": "python3"
  },
  "language_info": {
   "codemirror_mode": {
    "name": "ipython",
    "version": 3
   },
   "file_extension": ".py",
   "mimetype": "text/x-python",
   "name": "python",
   "nbconvert_exporter": "python",
   "pygments_lexer": "ipython3",
   "version": "3.9.13"
  }
 },
 "nbformat": 4,
 "nbformat_minor": 5
}
